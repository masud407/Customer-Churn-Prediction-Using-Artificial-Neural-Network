{
 "cells": [
  {
   "cell_type": "code",
   "execution_count": 1,
   "metadata": {},
   "outputs": [],
   "source": [
    "import pandas as pd\n",
    "from matplotlib import pyplot as plt\n",
    "import numpy as np\n",
    "%matplotlib inline"
   ]
  },
  {
   "cell_type": "code",
   "execution_count": null,
   "metadata": {},
   "outputs": [],
   "source": []
  },
  {
   "cell_type": "code",
   "execution_count": 2,
   "metadata": {},
   "outputs": [
    {
     "data": {
      "text/html": [
       "<div>\n",
       "<style scoped>\n",
       "    .dataframe tbody tr th:only-of-type {\n",
       "        vertical-align: middle;\n",
       "    }\n",
       "\n",
       "    .dataframe tbody tr th {\n",
       "        vertical-align: top;\n",
       "    }\n",
       "\n",
       "    .dataframe thead th {\n",
       "        text-align: right;\n",
       "    }\n",
       "</style>\n",
       "<table border=\"1\" class=\"dataframe\">\n",
       "  <thead>\n",
       "    <tr style=\"text-align: right;\">\n",
       "      <th></th>\n",
       "      <th>customerID</th>\n",
       "      <th>gender</th>\n",
       "      <th>SeniorCitizen</th>\n",
       "      <th>Partner</th>\n",
       "      <th>Dependents</th>\n",
       "      <th>tenure</th>\n",
       "      <th>PhoneService</th>\n",
       "      <th>MultipleLines</th>\n",
       "      <th>InternetService</th>\n",
       "      <th>OnlineSecurity</th>\n",
       "      <th>...</th>\n",
       "      <th>DeviceProtection</th>\n",
       "      <th>TechSupport</th>\n",
       "      <th>StreamingTV</th>\n",
       "      <th>StreamingMovies</th>\n",
       "      <th>Contract</th>\n",
       "      <th>PaperlessBilling</th>\n",
       "      <th>PaymentMethod</th>\n",
       "      <th>MonthlyCharges</th>\n",
       "      <th>TotalCharges</th>\n",
       "      <th>Churn</th>\n",
       "    </tr>\n",
       "  </thead>\n",
       "  <tbody>\n",
       "    <tr>\n",
       "      <th>2277</th>\n",
       "      <td>3571-RFHAR</td>\n",
       "      <td>Male</td>\n",
       "      <td>0</td>\n",
       "      <td>No</td>\n",
       "      <td>No</td>\n",
       "      <td>65</td>\n",
       "      <td>Yes</td>\n",
       "      <td>Yes</td>\n",
       "      <td>Fiber optic</td>\n",
       "      <td>No</td>\n",
       "      <td>...</td>\n",
       "      <td>Yes</td>\n",
       "      <td>Yes</td>\n",
       "      <td>Yes</td>\n",
       "      <td>Yes</td>\n",
       "      <td>Month-to-month</td>\n",
       "      <td>Yes</td>\n",
       "      <td>Electronic check</td>\n",
       "      <td>109.15</td>\n",
       "      <td>6941.2</td>\n",
       "      <td>Yes</td>\n",
       "    </tr>\n",
       "    <tr>\n",
       "      <th>2635</th>\n",
       "      <td>9953-ZMKSM</td>\n",
       "      <td>Male</td>\n",
       "      <td>0</td>\n",
       "      <td>No</td>\n",
       "      <td>No</td>\n",
       "      <td>63</td>\n",
       "      <td>Yes</td>\n",
       "      <td>Yes</td>\n",
       "      <td>No</td>\n",
       "      <td>No internet service</td>\n",
       "      <td>...</td>\n",
       "      <td>No internet service</td>\n",
       "      <td>No internet service</td>\n",
       "      <td>No internet service</td>\n",
       "      <td>No internet service</td>\n",
       "      <td>Two year</td>\n",
       "      <td>No</td>\n",
       "      <td>Mailed check</td>\n",
       "      <td>25.25</td>\n",
       "      <td>1559.3</td>\n",
       "      <td>No</td>\n",
       "    </tr>\n",
       "    <tr>\n",
       "      <th>6487</th>\n",
       "      <td>5998-DZLYR</td>\n",
       "      <td>Female</td>\n",
       "      <td>0</td>\n",
       "      <td>Yes</td>\n",
       "      <td>No</td>\n",
       "      <td>61</td>\n",
       "      <td>Yes</td>\n",
       "      <td>Yes</td>\n",
       "      <td>Fiber optic</td>\n",
       "      <td>No</td>\n",
       "      <td>...</td>\n",
       "      <td>No</td>\n",
       "      <td>Yes</td>\n",
       "      <td>No</td>\n",
       "      <td>Yes</td>\n",
       "      <td>Two year</td>\n",
       "      <td>Yes</td>\n",
       "      <td>Bank transfer (automatic)</td>\n",
       "      <td>94.35</td>\n",
       "      <td>5703</td>\n",
       "      <td>No</td>\n",
       "    </tr>\n",
       "    <tr>\n",
       "      <th>2402</th>\n",
       "      <td>7623-HKYRK</td>\n",
       "      <td>Male</td>\n",
       "      <td>0</td>\n",
       "      <td>No</td>\n",
       "      <td>Yes</td>\n",
       "      <td>6</td>\n",
       "      <td>Yes</td>\n",
       "      <td>No</td>\n",
       "      <td>No</td>\n",
       "      <td>No internet service</td>\n",
       "      <td>...</td>\n",
       "      <td>No internet service</td>\n",
       "      <td>No internet service</td>\n",
       "      <td>No internet service</td>\n",
       "      <td>No internet service</td>\n",
       "      <td>Month-to-month</td>\n",
       "      <td>No</td>\n",
       "      <td>Mailed check</td>\n",
       "      <td>19.70</td>\n",
       "      <td>111.65</td>\n",
       "      <td>No</td>\n",
       "    </tr>\n",
       "    <tr>\n",
       "      <th>4838</th>\n",
       "      <td>1360-XFJMR</td>\n",
       "      <td>Female</td>\n",
       "      <td>0</td>\n",
       "      <td>Yes</td>\n",
       "      <td>No</td>\n",
       "      <td>67</td>\n",
       "      <td>Yes</td>\n",
       "      <td>Yes</td>\n",
       "      <td>Fiber optic</td>\n",
       "      <td>No</td>\n",
       "      <td>...</td>\n",
       "      <td>Yes</td>\n",
       "      <td>Yes</td>\n",
       "      <td>Yes</td>\n",
       "      <td>Yes</td>\n",
       "      <td>One year</td>\n",
       "      <td>Yes</td>\n",
       "      <td>Credit card (automatic)</td>\n",
       "      <td>109.70</td>\n",
       "      <td>7344.45</td>\n",
       "      <td>No</td>\n",
       "    </tr>\n",
       "  </tbody>\n",
       "</table>\n",
       "<p>5 rows × 21 columns</p>\n",
       "</div>"
      ],
      "text/plain": [
       "      customerID  gender  SeniorCitizen Partner Dependents  tenure  \\\n",
       "2277  3571-RFHAR    Male              0      No         No      65   \n",
       "2635  9953-ZMKSM    Male              0      No         No      63   \n",
       "6487  5998-DZLYR  Female              0     Yes         No      61   \n",
       "2402  7623-HKYRK    Male              0      No        Yes       6   \n",
       "4838  1360-XFJMR  Female              0     Yes         No      67   \n",
       "\n",
       "     PhoneService MultipleLines InternetService       OnlineSecurity  ...  \\\n",
       "2277          Yes           Yes     Fiber optic                   No  ...   \n",
       "2635          Yes           Yes              No  No internet service  ...   \n",
       "6487          Yes           Yes     Fiber optic                   No  ...   \n",
       "2402          Yes            No              No  No internet service  ...   \n",
       "4838          Yes           Yes     Fiber optic                   No  ...   \n",
       "\n",
       "         DeviceProtection          TechSupport          StreamingTV  \\\n",
       "2277                  Yes                  Yes                  Yes   \n",
       "2635  No internet service  No internet service  No internet service   \n",
       "6487                   No                  Yes                   No   \n",
       "2402  No internet service  No internet service  No internet service   \n",
       "4838                  Yes                  Yes                  Yes   \n",
       "\n",
       "          StreamingMovies        Contract PaperlessBilling  \\\n",
       "2277                  Yes  Month-to-month              Yes   \n",
       "2635  No internet service        Two year               No   \n",
       "6487                  Yes        Two year              Yes   \n",
       "2402  No internet service  Month-to-month               No   \n",
       "4838                  Yes        One year              Yes   \n",
       "\n",
       "                  PaymentMethod MonthlyCharges  TotalCharges Churn  \n",
       "2277           Electronic check         109.15        6941.2   Yes  \n",
       "2635               Mailed check          25.25        1559.3    No  \n",
       "6487  Bank transfer (automatic)          94.35          5703    No  \n",
       "2402               Mailed check          19.70        111.65    No  \n",
       "4838    Credit card (automatic)         109.70       7344.45    No  \n",
       "\n",
       "[5 rows x 21 columns]"
      ]
     },
     "execution_count": 2,
     "metadata": {},
     "output_type": "execute_result"
    }
   ],
   "source": [
    "df = pd.read_csv(\"customer_churn.csv\")\n",
    "df.sample(5)"
   ]
  },
  {
   "cell_type": "code",
   "execution_count": 3,
   "metadata": {},
   "outputs": [
    {
     "data": {
      "text/plain": [
       "customerID           object\n",
       "gender               object\n",
       "SeniorCitizen         int64\n",
       "Partner              object\n",
       "Dependents           object\n",
       "tenure                int64\n",
       "PhoneService         object\n",
       "MultipleLines        object\n",
       "InternetService      object\n",
       "OnlineSecurity       object\n",
       "OnlineBackup         object\n",
       "DeviceProtection     object\n",
       "TechSupport          object\n",
       "StreamingTV          object\n",
       "StreamingMovies      object\n",
       "Contract             object\n",
       "PaperlessBilling     object\n",
       "PaymentMethod        object\n",
       "MonthlyCharges      float64\n",
       "TotalCharges         object\n",
       "Churn                object\n",
       "dtype: object"
      ]
     },
     "execution_count": 3,
     "metadata": {},
     "output_type": "execute_result"
    }
   ],
   "source": [
    "#Check the data types\n",
    "df.dtypes\n"
   ]
  },
  {
   "cell_type": "code",
   "execution_count": 4,
   "metadata": {},
   "outputs": [],
   "source": [
    "df.drop('customerID',axis='columns',inplace=True) #drop customer ID"
   ]
  },
  {
   "cell_type": "code",
   "execution_count": 5,
   "metadata": {},
   "outputs": [
    {
     "data": {
      "text/plain": [
       "array(['29.85', '1889.5', '108.15', ..., '346.45', '306.6', '6844.5'],\n",
       "      dtype=object)"
      ]
     },
     "execution_count": 5,
     "metadata": {},
     "output_type": "execute_result"
    }
   ],
   "source": [
    "df.TotalCharges.values  #check the datatype, need the numerical values as float type (numeric)"
   ]
  },
  {
   "cell_type": "code",
   "execution_count": 6,
   "metadata": {},
   "outputs": [
    {
     "data": {
      "text/plain": [
       "array([ 29.85,  56.95,  53.85, ...,  29.6 ,  74.4 , 105.65])"
      ]
     },
     "execution_count": 6,
     "metadata": {},
     "output_type": "execute_result"
    }
   ],
   "source": [
    "df.MonthlyCharges.values\n"
   ]
  },
  {
   "cell_type": "code",
   "execution_count": 7,
   "metadata": {},
   "outputs": [
    {
     "ename": "ValueError",
     "evalue": "Unable to parse string \" \" at position 488",
     "output_type": "error",
     "traceback": [
      "\u001b[1;31m---------------------------------------------------------------------------\u001b[0m",
      "\u001b[1;31mValueError\u001b[0m                                Traceback (most recent call last)",
      "\u001b[1;32m~\\.conda\\envs\\masud\\lib\\site-packages\\pandas\\_libs\\lib.pyx\u001b[0m in \u001b[0;36mpandas._libs.lib.maybe_convert_numeric\u001b[1;34m()\u001b[0m\n",
      "\u001b[1;31mValueError\u001b[0m: Unable to parse string \" \"",
      "\nDuring handling of the above exception, another exception occurred:\n",
      "\u001b[1;31mValueError\u001b[0m                                Traceback (most recent call last)",
      "\u001b[1;32m~\\AppData\\Local\\Temp\\ipykernel_17908\\2144359494.py\u001b[0m in \u001b[0;36m<module>\u001b[1;34m\u001b[0m\n\u001b[1;32m----> 1\u001b[1;33m \u001b[0mpd\u001b[0m\u001b[1;33m.\u001b[0m\u001b[0mto_numeric\u001b[0m\u001b[1;33m(\u001b[0m\u001b[0mdf\u001b[0m\u001b[1;33m.\u001b[0m\u001b[0mTotalCharges\u001b[0m\u001b[1;33m)\u001b[0m\u001b[1;33m\u001b[0m\u001b[1;33m\u001b[0m\u001b[0m\n\u001b[0m\u001b[0;32m      2\u001b[0m \u001b[1;33m\u001b[0m\u001b[0m\n\u001b[0;32m      3\u001b[0m \u001b[1;31m#can't be executed as there are some empty spaces(for example: \"NA'\") in that column\u001b[0m\u001b[1;33m\u001b[0m\u001b[1;33m\u001b[0m\u001b[1;33m\u001b[0m\u001b[0m\n",
      "\u001b[1;32m~\\.conda\\envs\\masud\\lib\\site-packages\\pandas\\core\\tools\\numeric.py\u001b[0m in \u001b[0;36mto_numeric\u001b[1;34m(arg, errors, downcast)\u001b[0m\n\u001b[0;32m    182\u001b[0m         \u001b[1;32mtry\u001b[0m\u001b[1;33m:\u001b[0m\u001b[1;33m\u001b[0m\u001b[1;33m\u001b[0m\u001b[0m\n\u001b[0;32m    183\u001b[0m             values, _ = lib.maybe_convert_numeric(\n\u001b[1;32m--> 184\u001b[1;33m                 \u001b[0mvalues\u001b[0m\u001b[1;33m,\u001b[0m \u001b[0mset\u001b[0m\u001b[1;33m(\u001b[0m\u001b[1;33m)\u001b[0m\u001b[1;33m,\u001b[0m \u001b[0mcoerce_numeric\u001b[0m\u001b[1;33m=\u001b[0m\u001b[0mcoerce_numeric\u001b[0m\u001b[1;33m\u001b[0m\u001b[1;33m\u001b[0m\u001b[0m\n\u001b[0m\u001b[0;32m    185\u001b[0m             )\n\u001b[0;32m    186\u001b[0m         \u001b[1;32mexcept\u001b[0m \u001b[1;33m(\u001b[0m\u001b[0mValueError\u001b[0m\u001b[1;33m,\u001b[0m \u001b[0mTypeError\u001b[0m\u001b[1;33m)\u001b[0m\u001b[1;33m:\u001b[0m\u001b[1;33m\u001b[0m\u001b[1;33m\u001b[0m\u001b[0m\n",
      "\u001b[1;32m~\\.conda\\envs\\masud\\lib\\site-packages\\pandas\\_libs\\lib.pyx\u001b[0m in \u001b[0;36mpandas._libs.lib.maybe_convert_numeric\u001b[1;34m()\u001b[0m\n",
      "\u001b[1;31mValueError\u001b[0m: Unable to parse string \" \" at position 488"
     ]
    }
   ],
   "source": [
    "pd.to_numeric(df.TotalCharges)\n",
    "\n",
    "#can't be executed as there are some empty spaces(for example: \"NA'\") in that column"
   ]
  },
  {
   "cell_type": "code",
   "execution_count": 8,
   "metadata": {},
   "outputs": [
    {
     "data": {
      "text/plain": [
       "0       False\n",
       "1       False\n",
       "2       False\n",
       "3       False\n",
       "4       False\n",
       "        ...  \n",
       "7038    False\n",
       "7039    False\n",
       "7040    False\n",
       "7041    False\n",
       "7042    False\n",
       "Name: TotalCharges, Length: 7043, dtype: bool"
      ]
     },
     "execution_count": 8,
     "metadata": {},
     "output_type": "execute_result"
    }
   ],
   "source": [
    "#the below line of code is essentially checking if the 'TotalCharges' column contains non-numeric values\n",
    "\n",
    "pd.to_numeric(df.TotalCharges,errors='coerce').isnull()  \n",
    "#The errors='coerce' parameter tells pandas to coerce errors to NaN (Not a Number) values if any conversion error occurs.\n",
    "#.isnull(): After converting the values to numeric format, this code checks for null values (for example: row 488 is null)."
   ]
  },
  {
   "cell_type": "code",
   "execution_count": 9,
   "metadata": {},
   "outputs": [
    {
     "data": {
      "text/plain": [
       "(7043, 20)"
      ]
     },
     "execution_count": 9,
     "metadata": {},
     "output_type": "execute_result"
    }
   ],
   "source": [
    "df.shape"
   ]
  },
  {
   "cell_type": "code",
   "execution_count": 10,
   "metadata": {},
   "outputs": [
    {
     "data": {
      "text/plain": [
       "' '"
      ]
     },
     "execution_count": 10,
     "metadata": {},
     "output_type": "execute_result"
    }
   ],
   "source": [
    "# 488th row for TotalCharges has nothing, to check this\n",
    "\n",
    "df.iloc[488].TotalCharges"
   ]
  },
  {
   "cell_type": "code",
   "execution_count": 11,
   "metadata": {},
   "outputs": [
    {
     "data": {
      "text/plain": [
       "(7032, 20)"
      ]
     },
     "execution_count": 11,
     "metadata": {},
     "output_type": "execute_result"
    }
   ],
   "source": [
    "#Assigning a new matrix containing available values for TotalCharges\n",
    "\n",
    "df1 = df[df.TotalCharges!=' ']\n",
    "df1.shape  #11 rows having 'NA' are deleted"
   ]
  },
  {
   "cell_type": "code",
   "execution_count": 12,
   "metadata": {},
   "outputs": [
    {
     "data": {
      "text/plain": [
       "gender               object\n",
       "SeniorCitizen         int64\n",
       "Partner              object\n",
       "Dependents           object\n",
       "tenure                int64\n",
       "PhoneService         object\n",
       "MultipleLines        object\n",
       "InternetService      object\n",
       "OnlineSecurity       object\n",
       "OnlineBackup         object\n",
       "DeviceProtection     object\n",
       "TechSupport          object\n",
       "StreamingTV          object\n",
       "StreamingMovies      object\n",
       "Contract             object\n",
       "PaperlessBilling     object\n",
       "PaymentMethod        object\n",
       "MonthlyCharges      float64\n",
       "TotalCharges         object\n",
       "Churn                object\n",
       "dtype: object"
      ]
     },
     "execution_count": 12,
     "metadata": {},
     "output_type": "execute_result"
    }
   ],
   "source": [
    "df1.dtypes"
   ]
  },
  {
   "cell_type": "code",
   "execution_count": 13,
   "metadata": {},
   "outputs": [
    {
     "name": "stderr",
     "output_type": "stream",
     "text": [
      "C:\\Users\\abmasud\\.conda\\envs\\masud\\lib\\site-packages\\pandas\\core\\generic.py:5516: SettingWithCopyWarning: \n",
      "A value is trying to be set on a copy of a slice from a DataFrame.\n",
      "Try using .loc[row_indexer,col_indexer] = value instead\n",
      "\n",
      "See the caveats in the documentation: https://pandas.pydata.org/pandas-docs/stable/user_guide/indexing.html#returning-a-view-versus-a-copy\n",
      "  self[name] = value\n"
     ]
    },
    {
     "data": {
      "text/plain": [
       "array([  29.85, 1889.5 ,  108.15, ...,  346.45,  306.6 , 6844.5 ])"
      ]
     },
     "execution_count": 13,
     "metadata": {},
     "output_type": "execute_result"
    }
   ],
   "source": [
    "df1.TotalCharges=pd.to_numeric(df1.TotalCharges) #converted into numeric (float) excluding NAN so that numerical operations can be performed\n",
    "df1.TotalCharges.values"
   ]
  },
  {
   "cell_type": "code",
   "execution_count": 14,
   "metadata": {},
   "outputs": [
    {
     "data": {
      "text/plain": [
       "gender               object\n",
       "SeniorCitizen         int64\n",
       "Partner              object\n",
       "Dependents           object\n",
       "tenure                int64\n",
       "PhoneService         object\n",
       "MultipleLines        object\n",
       "InternetService      object\n",
       "OnlineSecurity       object\n",
       "OnlineBackup         object\n",
       "DeviceProtection     object\n",
       "TechSupport          object\n",
       "StreamingTV          object\n",
       "StreamingMovies      object\n",
       "Contract             object\n",
       "PaperlessBilling     object\n",
       "PaymentMethod        object\n",
       "MonthlyCharges      float64\n",
       "TotalCharges        float64\n",
       "Churn                object\n",
       "dtype: object"
      ]
     },
     "execution_count": 14,
     "metadata": {},
     "output_type": "execute_result"
    }
   ],
   "source": [
    "df1.dtypes\n"
   ]
  },
  {
   "cell_type": "code",
   "execution_count": 15,
   "metadata": {},
   "outputs": [
    {
     "data": {
      "text/plain": [
       "<matplotlib.legend.Legend at 0x1b6024cddc8>"
      ]
     },
     "execution_count": 15,
     "metadata": {},
     "output_type": "execute_result"
    },
    {
     "data": {
      "image/png": "[encoded data removed]",
      "text/plain": [
       "<Figure size 640x480 with 1 Axes>"
      ]
     },
     "metadata": {},
     "output_type": "display_data"
    }
   ],
   "source": [
    "# identify Churn_no and Churn_yes based on tenure \n",
    "tenure_churn_no=df1[df1.Churn=='No'].tenure\n",
    "tenure_churn_yes=df1[df1.Churn=='Yes'].tenure\n",
    "plt.xlabel(\"tenure\")\n",
    "plt.ylabel(\"Number Of Customers\")\n",
    "plt.title(\"Customer Churn Prediction Visualiztion\")\n",
    "plt.hist([tenure_churn_yes,tenure_churn_no],color=['green','red'],label=['Churn=yes','Churn=No'])\n",
    "plt.legend()"
   ]
  },
  {
   "cell_type": "code",
   "execution_count": 16,
   "metadata": {},
   "outputs": [
    {
     "data": {
      "text/plain": [
       "<matplotlib.legend.Legend at 0x1b602c56e48>"
      ]
     },
     "execution_count": 16,
     "metadata": {},
     "output_type": "execute_result"
    },
    {
     "data": {
      "image/png": "[encoded data removed]",
      "text/plain": [
       "<Figure size 640x480 with 1 Axes>"
      ]
     },
     "metadata": {},
     "output_type": "display_data"
    }
   ],
   "source": [
    "# identify Churn_no and Churn_yes based on Monthly Charges\n",
    "MC_no=df1[df1.Churn=='No'].MonthlyCharges\n",
    "MC_yes=df1[df1.Churn=='Yes'].MonthlyCharges\n",
    "plt.xlabel(\"MonthlyCharges\")\n",
    "plt.ylabel(\"Number Of Customers\")\n",
    "plt.title(\"Customer Churn Prediction Visualiztion\")\n",
    "plt.hist([MC_yes,MC_no],color=['green','red'],label=['Churn=yes','Churn=No'])\n",
    "plt.legend()"
   ]
  },
  {
   "cell_type": "code",
   "execution_count": 17,
   "metadata": {},
   "outputs": [],
   "source": [
    "def print_unique_col_values(df): #making a fuinction so that I can get the unique values of each column for object datatype\n",
    "    for column in df:\n",
    "        if df[column].dtypes=='object':\n",
    "            print(f'{column}: {df[column].unique()}') #print the unique value of each column"
   ]
  },
  {
   "cell_type": "code",
   "execution_count": 18,
   "metadata": {},
   "outputs": [
    {
     "name": "stdout",
     "output_type": "stream",
     "text": [
      "gender: ['Female' 'Male']\n",
      "Partner: ['Yes' 'No']\n",
      "Dependents: ['No' 'Yes']\n",
      "PhoneService: ['No' 'Yes']\n",
      "MultipleLines: ['No phone service' 'No' 'Yes']\n",
      "InternetService: ['DSL' 'Fiber optic' 'No']\n",
      "OnlineSecurity: ['No' 'Yes' 'No internet service']\n",
      "OnlineBackup: ['Yes' 'No' 'No internet service']\n",
      "DeviceProtection: ['No' 'Yes' 'No internet service']\n",
      "TechSupport: ['No' 'Yes' 'No internet service']\n",
      "StreamingTV: ['No' 'Yes' 'No internet service']\n",
      "StreamingMovies: ['No' 'Yes' 'No internet service']\n",
      "Contract: ['Month-to-month' 'One year' 'Two year']\n",
      "PaperlessBilling: ['Yes' 'No']\n",
      "PaymentMethod: ['Electronic check' 'Mailed check' 'Bank transfer (automatic)'\n",
      " 'Credit card (automatic)']\n",
      "Churn: ['No' 'Yes']\n"
     ]
    }
   ],
   "source": [
    "print_unique_col_values(df1)"
   ]
  },
  {
   "cell_type": "code",
   "execution_count": 19,
   "metadata": {},
   "outputs": [
    {
     "name": "stderr",
     "output_type": "stream",
     "text": [
      "C:\\Users\\abmasud\\.conda\\envs\\masud\\lib\\site-packages\\pandas\\core\\frame.py:5244: SettingWithCopyWarning: \n",
      "A value is trying to be set on a copy of a slice from a DataFrame\n",
      "\n",
      "See the caveats in the documentation: https://pandas.pydata.org/pandas-docs/stable/user_guide/indexing.html#returning-a-view-versus-a-copy\n",
      "  method=method,\n"
     ]
    }
   ],
   "source": [
    "df1.replace('No internet service','No',inplace=True)\n",
    "df1.replace('No phone service','No',inplace=True)"
   ]
  },
  {
   "cell_type": "code",
   "execution_count": 20,
   "metadata": {},
   "outputs": [
    {
     "name": "stdout",
     "output_type": "stream",
     "text": [
      "gender: ['Female' 'Male']\n",
      "Partner: ['Yes' 'No']\n",
      "Dependents: ['No' 'Yes']\n",
      "PhoneService: ['No' 'Yes']\n",
      "MultipleLines: ['No' 'Yes']\n",
      "InternetService: ['DSL' 'Fiber optic' 'No']\n",
      "OnlineSecurity: ['No' 'Yes']\n",
      "OnlineBackup: ['Yes' 'No']\n",
      "DeviceProtection: ['No' 'Yes']\n",
      "TechSupport: ['No' 'Yes']\n",
      "StreamingTV: ['No' 'Yes']\n",
      "StreamingMovies: ['No' 'Yes']\n",
      "Contract: ['Month-to-month' 'One year' 'Two year']\n",
      "PaperlessBilling: ['Yes' 'No']\n",
      "PaymentMethod: ['Electronic check' 'Mailed check' 'Bank transfer (automatic)'\n",
      " 'Credit card (automatic)']\n",
      "Churn: ['No' 'Yes']\n"
     ]
    }
   ],
   "source": [
    "print_unique_col_values(df1)"
   ]
  },
  {
   "cell_type": "code",
   "execution_count": 21,
   "metadata": {},
   "outputs": [
    {
     "name": "stderr",
     "output_type": "stream",
     "text": [
      "C:\\Users\\abmasud\\.conda\\envs\\masud\\lib\\site-packages\\pandas\\core\\generic.py:6619: SettingWithCopyWarning: \n",
      "A value is trying to be set on a copy of a slice from a DataFrame\n",
      "\n",
      "See the caveats in the documentation: https://pandas.pydata.org/pandas-docs/stable/user_guide/indexing.html#returning-a-view-versus-a-copy\n",
      "  return self._update_inplace(result)\n"
     ]
    }
   ],
   "source": [
    "yes_no_columns = ['Partner','Dependents','PhoneService','MultipleLines','OnlineSecurity','OnlineBackup',\n",
    "                  'DeviceProtection','TechSupport','StreamingTV','StreamingMovies','PaperlessBilling','Churn']\n",
    "for col in yes_no_columns:\n",
    "    df1[col].replace({'Yes': 1,'No': 0},inplace=True) #replace with binary data"
   ]
  },
  {
   "cell_type": "code",
   "execution_count": 22,
   "metadata": {},
   "outputs": [
    {
     "name": "stdout",
     "output_type": "stream",
     "text": [
      "gender: ['Female' 'Male']\n",
      "InternetService: ['DSL' 'Fiber optic' 'No']\n",
      "Contract: ['Month-to-month' 'One year' 'Two year']\n",
      "PaymentMethod: ['Electronic check' 'Mailed check' 'Bank transfer (automatic)'\n",
      " 'Credit card (automatic)']\n"
     ]
    }
   ],
   "source": [
    "print_unique_col_values(df1)\n"
   ]
  },
  {
   "cell_type": "code",
   "execution_count": 23,
   "metadata": {},
   "outputs": [
    {
     "name": "stdout",
     "output_type": "stream",
     "text": [
      "gender:['Female' 'Male']\n",
      "SeniorCitizen:[0 1]\n",
      "Partner:[1 0]\n",
      "Dependents:[0 1]\n",
      "tenure:[ 1 34  2 45  8 22 10 28 62 13 16 58 49 25 69 52 71 21 12 30 47 72 17 27\n",
      "  5 46 11 70 63 43 15 60 18 66  9  3 31 50 64 56  7 42 35 48 29 65 38 68\n",
      " 32 55 37 36 41  6  4 33 67 23 57 61 14 20 53 40 59 24 44 19 54 51 26 39]\n",
      "PhoneService:[0 1]\n",
      "MultipleLines:[0 1]\n",
      "InternetService:['DSL' 'Fiber optic' 'No']\n",
      "OnlineSecurity:[0 1]\n",
      "OnlineBackup:[1 0]\n",
      "DeviceProtection:[0 1]\n",
      "TechSupport:[0 1]\n",
      "StreamingTV:[0 1]\n",
      "StreamingMovies:[0 1]\n",
      "Contract:['Month-to-month' 'One year' 'Two year']\n",
      "PaperlessBilling:[1 0]\n",
      "PaymentMethod:['Electronic check' 'Mailed check' 'Bank transfer (automatic)'\n",
      " 'Credit card (automatic)']\n",
      "MonthlyCharges:[29.85 56.95 53.85 ... 63.1  44.2  78.7 ]\n",
      "TotalCharges:[  29.85 1889.5   108.15 ...  346.45  306.6  6844.5 ]\n",
      "Churn:[0 1]\n"
     ]
    }
   ],
   "source": [
    "for col in df1:\n",
    "    print(f'{col}:{df1[col].unique()}')"
   ]
  },
  {
   "cell_type": "code",
   "execution_count": 24,
   "metadata": {},
   "outputs": [
    {
     "name": "stderr",
     "output_type": "stream",
     "text": [
      "C:\\Users\\abmasud\\.conda\\envs\\masud\\lib\\site-packages\\ipykernel_launcher.py:1: SettingWithCopyWarning: \n",
      "A value is trying to be set on a copy of a slice from a DataFrame.\n",
      "Try using .loc[row_indexer,col_indexer] = value instead\n",
      "\n",
      "See the caveats in the documentation: https://pandas.pydata.org/pandas-docs/stable/user_guide/indexing.html#returning-a-view-versus-a-copy\n",
      "  \"\"\"Entry point for launching an IPython kernel.\n"
     ]
    }
   ],
   "source": [
    "df1['gender'] = df1['gender'].map({'Female': 0, 'Male': 1})"
   ]
  },
  {
   "cell_type": "code",
   "execution_count": 25,
   "metadata": {},
   "outputs": [
    {
     "data": {
      "text/plain": [
       "array([0, 1], dtype=int64)"
      ]
     },
     "execution_count": 25,
     "metadata": {},
     "output_type": "execute_result"
    }
   ],
   "source": [
    "df1.gender.unique()"
   ]
  },
  {
   "cell_type": "code",
   "execution_count": 26,
   "metadata": {},
   "outputs": [
    {
     "data": {
      "text/plain": [
       "gender                                       int64\n",
       "SeniorCitizen                                int64\n",
       "Partner                                      int64\n",
       "Dependents                                   int64\n",
       "tenure                                       int64\n",
       "PhoneService                                 int64\n",
       "MultipleLines                                int64\n",
       "OnlineSecurity                               int64\n",
       "OnlineBackup                                 int64\n",
       "DeviceProtection                             int64\n",
       "TechSupport                                  int64\n",
       "StreamingTV                                  int64\n",
       "StreamingMovies                              int64\n",
       "PaperlessBilling                             int64\n",
       "MonthlyCharges                             float64\n",
       "TotalCharges                               float64\n",
       "Churn                                        int64\n",
       "InternetService_DSL                          uint8\n",
       "InternetService_Fiber optic                  uint8\n",
       "InternetService_No                           uint8\n",
       "Contract_Month-to-month                      uint8\n",
       "Contract_One year                            uint8\n",
       "Contract_Two year                            uint8\n",
       "PaymentMethod_Bank transfer (automatic)      uint8\n",
       "PaymentMethod_Credit card (automatic)        uint8\n",
       "PaymentMethod_Electronic check               uint8\n",
       "PaymentMethod_Mailed check                   uint8\n",
       "dtype: object"
      ]
     },
     "execution_count": 26,
     "metadata": {},
     "output_type": "execute_result"
    }
   ],
   "source": [
    "#The get_dummies() function converts each unique value in the specified categorical columns into a new binary column, where each column represents one unique value.\n",
    "#type needs to be iun int or float to do numerical calculation\n",
    "df2=pd.get_dummies(data=df1,columns=['InternetService','Contract','PaymentMethod'])\n",
    "df2.dtypes"
   ]
  },
  {
   "cell_type": "code",
   "execution_count": 27,
   "metadata": {},
   "outputs": [
    {
     "name": "stdout",
     "output_type": "stream",
     "text": [
      "gender:[0 1]\n",
      "SeniorCitizen:[0 1]\n",
      "Partner:[1 0]\n",
      "Dependents:[0 1]\n",
      "tenure:[ 1 34  2 45  8 22 10 28 62 13 16 58 49 25 69 52 71 21 12 30 47 72 17 27\n",
      "  5 46 11 70 63 43 15 60 18 66  9  3 31 50 64 56  7 42 35 48 29 65 38 68\n",
      " 32 55 37 36 41  6  4 33 67 23 57 61 14 20 53 40 59 24 44 19 54 51 26 39]\n",
      "PhoneService:[0 1]\n",
      "MultipleLines:[0 1]\n",
      "OnlineSecurity:[0 1]\n",
      "OnlineBackup:[1 0]\n",
      "DeviceProtection:[0 1]\n",
      "TechSupport:[0 1]\n",
      "StreamingTV:[0 1]\n",
      "StreamingMovies:[0 1]\n",
      "PaperlessBilling:[1 0]\n",
      "MonthlyCharges:[29.85 56.95 53.85 ... 63.1  44.2  78.7 ]\n",
      "TotalCharges:[  29.85 1889.5   108.15 ...  346.45  306.6  6844.5 ]\n",
      "Churn:[0 1]\n"
     ]
    },
    {
     "ename": "KeyError",
     "evalue": "'InternetService_DSL'",
     "output_type": "error",
     "traceback": [
      "\u001b[1;31m---------------------------------------------------------------------------\u001b[0m",
      "\u001b[1;31mKeyError\u001b[0m                                  Traceback (most recent call last)",
      "\u001b[1;32m~\\.conda\\envs\\masud\\lib\\site-packages\\pandas\\core\\indexes\\base.py\u001b[0m in \u001b[0;36mget_loc\u001b[1;34m(self, key, method, tolerance)\u001b[0m\n\u001b[0;32m   3360\u001b[0m             \u001b[1;32mtry\u001b[0m\u001b[1;33m:\u001b[0m\u001b[1;33m\u001b[0m\u001b[1;33m\u001b[0m\u001b[0m\n\u001b[1;32m-> 3361\u001b[1;33m                 \u001b[1;32mreturn\u001b[0m \u001b[0mself\u001b[0m\u001b[1;33m.\u001b[0m\u001b[0m_engine\u001b[0m\u001b[1;33m.\u001b[0m\u001b[0mget_loc\u001b[0m\u001b[1;33m(\u001b[0m\u001b[0mcasted_key\u001b[0m\u001b[1;33m)\u001b[0m\u001b[1;33m\u001b[0m\u001b[1;33m\u001b[0m\u001b[0m\n\u001b[0m\u001b[0;32m   3362\u001b[0m             \u001b[1;32mexcept\u001b[0m \u001b[0mKeyError\u001b[0m \u001b[1;32mas\u001b[0m \u001b[0merr\u001b[0m\u001b[1;33m:\u001b[0m\u001b[1;33m\u001b[0m\u001b[1;33m\u001b[0m\u001b[0m\n",
      "\u001b[1;32m~\\.conda\\envs\\masud\\lib\\site-packages\\pandas\\_libs\\index.pyx\u001b[0m in \u001b[0;36mpandas._libs.index.IndexEngine.get_loc\u001b[1;34m()\u001b[0m\n",
      "\u001b[1;32m~\\.conda\\envs\\masud\\lib\\site-packages\\pandas\\_libs\\index.pyx\u001b[0m in \u001b[0;36mpandas._libs.index.IndexEngine.get_loc\u001b[1;34m()\u001b[0m\n",
      "\u001b[1;32mpandas\\_libs\\hashtable_class_helper.pxi\u001b[0m in \u001b[0;36mpandas._libs.hashtable.PyObjectHashTable.get_item\u001b[1;34m()\u001b[0m\n",
      "\u001b[1;32mpandas\\_libs\\hashtable_class_helper.pxi\u001b[0m in \u001b[0;36mpandas._libs.hashtable.PyObjectHashTable.get_item\u001b[1;34m()\u001b[0m\n",
      "\u001b[1;31mKeyError\u001b[0m: 'InternetService_DSL'",
      "\nThe above exception was the direct cause of the following exception:\n",
      "\u001b[1;31mKeyError\u001b[0m                                  Traceback (most recent call last)",
      "\u001b[1;32m~\\AppData\\Local\\Temp\\ipykernel_17908\\3842814077.py\u001b[0m in \u001b[0;36m<module>\u001b[1;34m\u001b[0m\n\u001b[0;32m      1\u001b[0m \u001b[1;32mfor\u001b[0m \u001b[0mcol\u001b[0m \u001b[1;32min\u001b[0m \u001b[0mdf2\u001b[0m\u001b[1;33m:\u001b[0m\u001b[1;33m\u001b[0m\u001b[1;33m\u001b[0m\u001b[0m\n\u001b[1;32m----> 2\u001b[1;33m     \u001b[0mprint\u001b[0m\u001b[1;33m(\u001b[0m\u001b[1;34mf'{col}:{df1[col].unique()}'\u001b[0m\u001b[1;33m)\u001b[0m\u001b[1;33m\u001b[0m\u001b[1;33m\u001b[0m\u001b[0m\n\u001b[0m",
      "\u001b[1;32m~\\.conda\\envs\\masud\\lib\\site-packages\\pandas\\core\\frame.py\u001b[0m in \u001b[0;36m__getitem__\u001b[1;34m(self, key)\u001b[0m\n\u001b[0;32m   3456\u001b[0m             \u001b[1;32mif\u001b[0m \u001b[0mself\u001b[0m\u001b[1;33m.\u001b[0m\u001b[0mcolumns\u001b[0m\u001b[1;33m.\u001b[0m\u001b[0mnlevels\u001b[0m \u001b[1;33m>\u001b[0m \u001b[1;36m1\u001b[0m\u001b[1;33m:\u001b[0m\u001b[1;33m\u001b[0m\u001b[1;33m\u001b[0m\u001b[0m\n\u001b[0;32m   3457\u001b[0m                 \u001b[1;32mreturn\u001b[0m \u001b[0mself\u001b[0m\u001b[1;33m.\u001b[0m\u001b[0m_getitem_multilevel\u001b[0m\u001b[1;33m(\u001b[0m\u001b[0mkey\u001b[0m\u001b[1;33m)\u001b[0m\u001b[1;33m\u001b[0m\u001b[1;33m\u001b[0m\u001b[0m\n\u001b[1;32m-> 3458\u001b[1;33m             \u001b[0mindexer\u001b[0m \u001b[1;33m=\u001b[0m \u001b[0mself\u001b[0m\u001b[1;33m.\u001b[0m\u001b[0mcolumns\u001b[0m\u001b[1;33m.\u001b[0m\u001b[0mget_loc\u001b[0m\u001b[1;33m(\u001b[0m\u001b[0mkey\u001b[0m\u001b[1;33m)\u001b[0m\u001b[1;33m\u001b[0m\u001b[1;33m\u001b[0m\u001b[0m\n\u001b[0m\u001b[0;32m   3459\u001b[0m             \u001b[1;32mif\u001b[0m \u001b[0mis_integer\u001b[0m\u001b[1;33m(\u001b[0m\u001b[0mindexer\u001b[0m\u001b[1;33m)\u001b[0m\u001b[1;33m:\u001b[0m\u001b[1;33m\u001b[0m\u001b[1;33m\u001b[0m\u001b[0m\n\u001b[0;32m   3460\u001b[0m                 \u001b[0mindexer\u001b[0m \u001b[1;33m=\u001b[0m \u001b[1;33m[\u001b[0m\u001b[0mindexer\u001b[0m\u001b[1;33m]\u001b[0m\u001b[1;33m\u001b[0m\u001b[1;33m\u001b[0m\u001b[0m\n",
      "\u001b[1;32m~\\.conda\\envs\\masud\\lib\\site-packages\\pandas\\core\\indexes\\base.py\u001b[0m in \u001b[0;36mget_loc\u001b[1;34m(self, key, method, tolerance)\u001b[0m\n\u001b[0;32m   3361\u001b[0m                 \u001b[1;32mreturn\u001b[0m \u001b[0mself\u001b[0m\u001b[1;33m.\u001b[0m\u001b[0m_engine\u001b[0m\u001b[1;33m.\u001b[0m\u001b[0mget_loc\u001b[0m\u001b[1;33m(\u001b[0m\u001b[0mcasted_key\u001b[0m\u001b[1;33m)\u001b[0m\u001b[1;33m\u001b[0m\u001b[1;33m\u001b[0m\u001b[0m\n\u001b[0;32m   3362\u001b[0m             \u001b[1;32mexcept\u001b[0m \u001b[0mKeyError\u001b[0m \u001b[1;32mas\u001b[0m \u001b[0merr\u001b[0m\u001b[1;33m:\u001b[0m\u001b[1;33m\u001b[0m\u001b[1;33m\u001b[0m\u001b[0m\n\u001b[1;32m-> 3363\u001b[1;33m                 \u001b[1;32mraise\u001b[0m \u001b[0mKeyError\u001b[0m\u001b[1;33m(\u001b[0m\u001b[0mkey\u001b[0m\u001b[1;33m)\u001b[0m \u001b[1;32mfrom\u001b[0m \u001b[0merr\u001b[0m\u001b[1;33m\u001b[0m\u001b[1;33m\u001b[0m\u001b[0m\n\u001b[0m\u001b[0;32m   3364\u001b[0m \u001b[1;33m\u001b[0m\u001b[0m\n\u001b[0;32m   3365\u001b[0m         \u001b[1;32mif\u001b[0m \u001b[0mis_scalar\u001b[0m\u001b[1;33m(\u001b[0m\u001b[0mkey\u001b[0m\u001b[1;33m)\u001b[0m \u001b[1;32mand\u001b[0m \u001b[0misna\u001b[0m\u001b[1;33m(\u001b[0m\u001b[0mkey\u001b[0m\u001b[1;33m)\u001b[0m \u001b[1;32mand\u001b[0m \u001b[1;32mnot\u001b[0m \u001b[0mself\u001b[0m\u001b[1;33m.\u001b[0m\u001b[0mhasnans\u001b[0m\u001b[1;33m:\u001b[0m\u001b[1;33m\u001b[0m\u001b[1;33m\u001b[0m\u001b[0m\n",
      "\u001b[1;31mKeyError\u001b[0m: 'InternetService_DSL'"
     ]
    }
   ],
   "source": [
    "for col in df2:\n",
    "    print(f'{col}:{df1[col].unique()}')"
   ]
  },
  {
   "cell_type": "code",
   "execution_count": 28,
   "metadata": {},
   "outputs": [],
   "source": [
    "cols_to_scale=['tenure','MonthlyCharges','TotalCharges']\n",
    "from sklearn.preprocessing import MinMaxScaler #imports the MinMaxScaler class from the scikit-learn preprocessing module. The MinMaxScaler scales features to a specified range (by default, between 0 and 1).\n",
    "scaler=MinMaxScaler()#Initialize MinMaxScaler\n",
    "df2[cols_to_scale]=scaler.fit_transform(df2[cols_to_scale]) # The fit_transform() method calculates the minimum and maximum values of each column and scales the data accordingly. Finally, it replaces the original values in the selected columns with the scaled values."
   ]
  },
  {
   "cell_type": "code",
   "execution_count": 29,
   "metadata": {},
   "outputs": [
    {
     "name": "stdout",
     "output_type": "stream",
     "text": [
      "gender:[0 1]\n",
      "SeniorCitizen:[0 1]\n",
      "Partner:[1 0]\n",
      "Dependents:[0 1]\n",
      "tenure:[0.         0.46478873 0.01408451 0.61971831 0.09859155 0.29577465\n",
      " 0.12676056 0.38028169 0.85915493 0.16901408 0.21126761 0.8028169\n",
      " 0.67605634 0.33802817 0.95774648 0.71830986 0.98591549 0.28169014\n",
      " 0.15492958 0.4084507  0.64788732 1.         0.22535211 0.36619718\n",
      " 0.05633803 0.63380282 0.14084507 0.97183099 0.87323944 0.5915493\n",
      " 0.1971831  0.83098592 0.23943662 0.91549296 0.11267606 0.02816901\n",
      " 0.42253521 0.69014085 0.88732394 0.77464789 0.08450704 0.57746479\n",
      " 0.47887324 0.66197183 0.3943662  0.90140845 0.52112676 0.94366197\n",
      " 0.43661972 0.76056338 0.50704225 0.49295775 0.56338028 0.07042254\n",
      " 0.04225352 0.45070423 0.92957746 0.30985915 0.78873239 0.84507042\n",
      " 0.18309859 0.26760563 0.73239437 0.54929577 0.81690141 0.32394366\n",
      " 0.6056338  0.25352113 0.74647887 0.70422535 0.35211268 0.53521127]\n",
      "PhoneService:[0 1]\n",
      "MultipleLines:[0 1]\n",
      "OnlineSecurity:[0 1]\n",
      "OnlineBackup:[1 0]\n",
      "DeviceProtection:[0 1]\n",
      "TechSupport:[0 1]\n",
      "StreamingTV:[0 1]\n",
      "StreamingMovies:[0 1]\n",
      "PaperlessBilling:[1 0]\n",
      "MonthlyCharges:[0.11542289 0.38507463 0.35422886 ... 0.44626866 0.25820896 0.60149254]\n",
      "TotalCharges:[0.0012751  0.21586661 0.01031041 ... 0.03780868 0.03321025 0.78764136]\n",
      "Churn:[0 1]\n",
      "InternetService_DSL:[1 0]\n",
      "InternetService_Fiber optic:[0 1]\n",
      "InternetService_No:[0 1]\n",
      "Contract_Month-to-month:[1 0]\n",
      "Contract_One year:[0 1]\n",
      "Contract_Two year:[0 1]\n",
      "PaymentMethod_Bank transfer (automatic):[0 1]\n",
      "PaymentMethod_Credit card (automatic):[0 1]\n",
      "PaymentMethod_Electronic check:[1 0]\n",
      "PaymentMethod_Mailed check:[0 1]\n"
     ]
    }
   ],
   "source": [
    "for col in df2:\n",
    "    print(f'{col}:{df2[col].unique()}')"
   ]
  },
  {
   "cell_type": "code",
   "execution_count": 30,
   "metadata": {},
   "outputs": [],
   "source": [
    "X = df2.drop('Churn',axis='columns')\n",
    "y = df2['Churn']\n",
    "\n",
    "from sklearn.model_selection import train_test_split\n",
    "X_train, X_test, y_train, y_test = train_test_split(X,y,test_size=0.2,random_state=5)"
   ]
  },
  {
   "cell_type": "code",
   "execution_count": 31,
   "metadata": {},
   "outputs": [
    {
     "data": {
      "text/plain": [
       "(5625, 26)"
      ]
     },
     "execution_count": 31,
     "metadata": {},
     "output_type": "execute_result"
    }
   ],
   "source": [
    "X_train.shape"
   ]
  },
  {
   "cell_type": "code",
   "execution_count": 32,
   "metadata": {},
   "outputs": [
    {
     "data": {
      "text/html": [
       "<div>\n",
       "<style scoped>\n",
       "    .dataframe tbody tr th:only-of-type {\n",
       "        vertical-align: middle;\n",
       "    }\n",
       "\n",
       "    .dataframe tbody tr th {\n",
       "        vertical-align: top;\n",
       "    }\n",
       "\n",
       "    .dataframe thead th {\n",
       "        text-align: right;\n",
       "    }\n",
       "</style>\n",
       "<table border=\"1\" class=\"dataframe\">\n",
       "  <thead>\n",
       "    <tr style=\"text-align: right;\">\n",
       "      <th></th>\n",
       "      <th>gender</th>\n",
       "      <th>SeniorCitizen</th>\n",
       "      <th>Partner</th>\n",
       "      <th>Dependents</th>\n",
       "      <th>tenure</th>\n",
       "      <th>PhoneService</th>\n",
       "      <th>MultipleLines</th>\n",
       "      <th>OnlineSecurity</th>\n",
       "      <th>OnlineBackup</th>\n",
       "      <th>DeviceProtection</th>\n",
       "      <th>...</th>\n",
       "      <th>InternetService_DSL</th>\n",
       "      <th>InternetService_Fiber optic</th>\n",
       "      <th>InternetService_No</th>\n",
       "      <th>Contract_Month-to-month</th>\n",
       "      <th>Contract_One year</th>\n",
       "      <th>Contract_Two year</th>\n",
       "      <th>PaymentMethod_Bank transfer (automatic)</th>\n",
       "      <th>PaymentMethod_Credit card (automatic)</th>\n",
       "      <th>PaymentMethod_Electronic check</th>\n",
       "      <th>PaymentMethod_Mailed check</th>\n",
       "    </tr>\n",
       "  </thead>\n",
       "  <tbody>\n",
       "    <tr>\n",
       "      <th>5664</th>\n",
       "      <td>0</td>\n",
       "      <td>1</td>\n",
       "      <td>0</td>\n",
       "      <td>0</td>\n",
       "      <td>0.126761</td>\n",
       "      <td>1</td>\n",
       "      <td>0</td>\n",
       "      <td>0</td>\n",
       "      <td>0</td>\n",
       "      <td>1</td>\n",
       "      <td>...</td>\n",
       "      <td>0</td>\n",
       "      <td>1</td>\n",
       "      <td>0</td>\n",
       "      <td>1</td>\n",
       "      <td>0</td>\n",
       "      <td>0</td>\n",
       "      <td>0</td>\n",
       "      <td>1</td>\n",
       "      <td>0</td>\n",
       "      <td>0</td>\n",
       "    </tr>\n",
       "    <tr>\n",
       "      <th>101</th>\n",
       "      <td>0</td>\n",
       "      <td>0</td>\n",
       "      <td>1</td>\n",
       "      <td>1</td>\n",
       "      <td>0.000000</td>\n",
       "      <td>1</td>\n",
       "      <td>0</td>\n",
       "      <td>0</td>\n",
       "      <td>0</td>\n",
       "      <td>0</td>\n",
       "      <td>...</td>\n",
       "      <td>0</td>\n",
       "      <td>0</td>\n",
       "      <td>1</td>\n",
       "      <td>1</td>\n",
       "      <td>0</td>\n",
       "      <td>0</td>\n",
       "      <td>0</td>\n",
       "      <td>0</td>\n",
       "      <td>1</td>\n",
       "      <td>0</td>\n",
       "    </tr>\n",
       "    <tr>\n",
       "      <th>2621</th>\n",
       "      <td>1</td>\n",
       "      <td>0</td>\n",
       "      <td>1</td>\n",
       "      <td>0</td>\n",
       "      <td>0.985915</td>\n",
       "      <td>1</td>\n",
       "      <td>0</td>\n",
       "      <td>0</td>\n",
       "      <td>1</td>\n",
       "      <td>1</td>\n",
       "      <td>...</td>\n",
       "      <td>1</td>\n",
       "      <td>0</td>\n",
       "      <td>0</td>\n",
       "      <td>0</td>\n",
       "      <td>0</td>\n",
       "      <td>1</td>\n",
       "      <td>0</td>\n",
       "      <td>1</td>\n",
       "      <td>0</td>\n",
       "      <td>0</td>\n",
       "    </tr>\n",
       "    <tr>\n",
       "      <th>392</th>\n",
       "      <td>0</td>\n",
       "      <td>1</td>\n",
       "      <td>0</td>\n",
       "      <td>0</td>\n",
       "      <td>0.014085</td>\n",
       "      <td>1</td>\n",
       "      <td>0</td>\n",
       "      <td>0</td>\n",
       "      <td>0</td>\n",
       "      <td>0</td>\n",
       "      <td>...</td>\n",
       "      <td>1</td>\n",
       "      <td>0</td>\n",
       "      <td>0</td>\n",
       "      <td>1</td>\n",
       "      <td>0</td>\n",
       "      <td>0</td>\n",
       "      <td>0</td>\n",
       "      <td>0</td>\n",
       "      <td>1</td>\n",
       "      <td>0</td>\n",
       "    </tr>\n",
       "    <tr>\n",
       "      <th>1327</th>\n",
       "      <td>1</td>\n",
       "      <td>0</td>\n",
       "      <td>1</td>\n",
       "      <td>0</td>\n",
       "      <td>0.816901</td>\n",
       "      <td>1</td>\n",
       "      <td>1</td>\n",
       "      <td>0</td>\n",
       "      <td>0</td>\n",
       "      <td>1</td>\n",
       "      <td>...</td>\n",
       "      <td>0</td>\n",
       "      <td>1</td>\n",
       "      <td>0</td>\n",
       "      <td>0</td>\n",
       "      <td>1</td>\n",
       "      <td>0</td>\n",
       "      <td>1</td>\n",
       "      <td>0</td>\n",
       "      <td>0</td>\n",
       "      <td>0</td>\n",
       "    </tr>\n",
       "  </tbody>\n",
       "</table>\n",
       "<p>5 rows × 26 columns</p>\n",
       "</div>"
      ],
      "text/plain": [
       "      gender  SeniorCitizen  Partner  Dependents    tenure  PhoneService  \\\n",
       "5664       0              1        0           0  0.126761             1   \n",
       "101        0              0        1           1  0.000000             1   \n",
       "2621       1              0        1           0  0.985915             1   \n",
       "392        0              1        0           0  0.014085             1   \n",
       "1327       1              0        1           0  0.816901             1   \n",
       "\n",
       "      MultipleLines  OnlineSecurity  OnlineBackup  DeviceProtection  ...  \\\n",
       "5664              0               0             0                 1  ...   \n",
       "101               0               0             0                 0  ...   \n",
       "2621              0               0             1                 1  ...   \n",
       "392               0               0             0                 0  ...   \n",
       "1327              1               0             0                 1  ...   \n",
       "\n",
       "      InternetService_DSL  InternetService_Fiber optic  InternetService_No  \\\n",
       "5664                    0                            1                   0   \n",
       "101                     0                            0                   1   \n",
       "2621                    1                            0                   0   \n",
       "392                     1                            0                   0   \n",
       "1327                    0                            1                   0   \n",
       "\n",
       "      Contract_Month-to-month  Contract_One year  Contract_Two year  \\\n",
       "5664                        1                  0                  0   \n",
       "101                         1                  0                  0   \n",
       "2621                        0                  0                  1   \n",
       "392                         1                  0                  0   \n",
       "1327                        0                  1                  0   \n",
       "\n",
       "      PaymentMethod_Bank transfer (automatic)  \\\n",
       "5664                                        0   \n",
       "101                                         0   \n",
       "2621                                        0   \n",
       "392                                         0   \n",
       "1327                                        1   \n",
       "\n",
       "      PaymentMethod_Credit card (automatic)  PaymentMethod_Electronic check  \\\n",
       "5664                                      1                               0   \n",
       "101                                       0                               1   \n",
       "2621                                      1                               0   \n",
       "392                                       0                               1   \n",
       "1327                                      0                               0   \n",
       "\n",
       "      PaymentMethod_Mailed check  \n",
       "5664                           0  \n",
       "101                            0  \n",
       "2621                           0  \n",
       "392                            0  \n",
       "1327                           0  \n",
       "\n",
       "[5 rows x 26 columns]"
      ]
     },
     "execution_count": 32,
     "metadata": {},
     "output_type": "execute_result"
    }
   ],
   "source": [
    "X_train[:5]"
   ]
  },
  {
   "cell_type": "code",
   "execution_count": 33,
   "metadata": {},
   "outputs": [
    {
     "data": {
      "text/plain": [
       "0    999\n",
       "1    408\n",
       "Name: Churn, dtype: int64"
      ]
     },
     "execution_count": 33,
     "metadata": {},
     "output_type": "execute_result"
    }
   ],
   "source": [
    "y_test.value_counts()"
   ]
  },
  {
   "cell_type": "code",
   "execution_count": 34,
   "metadata": {},
   "outputs": [
    {
     "data": {
      "text/plain": [
       "(1407, 26)"
      ]
     },
     "execution_count": 34,
     "metadata": {},
     "output_type": "execute_result"
    }
   ],
   "source": [
    "X_test.shape"
   ]
  },
  {
   "cell_type": "code",
   "execution_count": 35,
   "metadata": {},
   "outputs": [
    {
     "name": "stderr",
     "output_type": "stream",
     "text": [
      "C:\\Users\\abmasud\\.conda\\envs\\masud\\lib\\site-packages\\tensorflow\\python\\framework\\dtypes.py:516: FutureWarning: Passing (type, 1) or '1type' as a synonym of type is deprecated; in a future version of numpy, it will be understood as (type, (1,)) / '(1,)type'.\n",
      "  _np_qint8 = np.dtype([(\"qint8\", np.int8, 1)])\n",
      "C:\\Users\\abmasud\\.conda\\envs\\masud\\lib\\site-packages\\tensorflow\\python\\framework\\dtypes.py:517: FutureWarning: Passing (type, 1) or '1type' as a synonym of type is deprecated; in a future version of numpy, it will be understood as (type, (1,)) / '(1,)type'.\n",
      "  _np_quint8 = np.dtype([(\"quint8\", np.uint8, 1)])\n",
      "C:\\Users\\abmasud\\.conda\\envs\\masud\\lib\\site-packages\\tensorflow\\python\\framework\\dtypes.py:518: FutureWarning: Passing (type, 1) or '1type' as a synonym of type is deprecated; in a future version of numpy, it will be understood as (type, (1,)) / '(1,)type'.\n",
      "  _np_qint16 = np.dtype([(\"qint16\", np.int16, 1)])\n",
      "C:\\Users\\abmasud\\.conda\\envs\\masud\\lib\\site-packages\\tensorflow\\python\\framework\\dtypes.py:519: FutureWarning: Passing (type, 1) or '1type' as a synonym of type is deprecated; in a future version of numpy, it will be understood as (type, (1,)) / '(1,)type'.\n",
      "  _np_quint16 = np.dtype([(\"quint16\", np.uint16, 1)])\n",
      "C:\\Users\\abmasud\\.conda\\envs\\masud\\lib\\site-packages\\tensorflow\\python\\framework\\dtypes.py:520: FutureWarning: Passing (type, 1) or '1type' as a synonym of type is deprecated; in a future version of numpy, it will be understood as (type, (1,)) / '(1,)type'.\n",
      "  _np_qint32 = np.dtype([(\"qint32\", np.int32, 1)])\n",
      "C:\\Users\\abmasud\\.conda\\envs\\masud\\lib\\site-packages\\tensorflow\\python\\framework\\dtypes.py:525: FutureWarning: Passing (type, 1) or '1type' as a synonym of type is deprecated; in a future version of numpy, it will be understood as (type, (1,)) / '(1,)type'.\n",
      "  np_resource = np.dtype([(\"resource\", np.ubyte, 1)])\n"
     ]
    },
    {
     "name": "stdout",
     "output_type": "stream",
     "text": [
      "WARNING:tensorflow:From C:\\Users\\abmasud\\.conda\\envs\\masud\\lib\\site-packages\\tensorflow\\python\\ops\\init_ops.py:1251: calling VarianceScaling.__init__ (from tensorflow.python.ops.init_ops) with dtype is deprecated and will be removed in a future version.\n",
      "Instructions for updating:\n",
      "Call initializer instance with the dtype argument instead of passing it to the constructor\n",
      "WARNING:tensorflow:From C:\\Users\\abmasud\\.conda\\envs\\masud\\lib\\site-packages\\tensorflow\\python\\ops\\nn_impl.py:180: add_dispatch_support.<locals>.wrapper (from tensorflow.python.ops.array_ops) is deprecated and will be removed in a future version.\n",
      "Instructions for updating:\n",
      "Use tf.where in 2.0, which has the same broadcast rule as np.where\n"
     ]
    },
    {
     "name": "stderr",
     "output_type": "stream",
     "text": [
      "C:\\Users\\abmasud\\.conda\\envs\\masud\\lib\\site-packages\\tensorboard\\compat\\tensorflow_stub\\dtypes.py:541: FutureWarning: Passing (type, 1) or '1type' as a synonym of type is deprecated; in a future version of numpy, it will be understood as (type, (1,)) / '(1,)type'.\n",
      "  _np_qint8 = np.dtype([(\"qint8\", np.int8, 1)])\n",
      "C:\\Users\\abmasud\\.conda\\envs\\masud\\lib\\site-packages\\tensorboard\\compat\\tensorflow_stub\\dtypes.py:542: FutureWarning: Passing (type, 1) or '1type' as a synonym of type is deprecated; in a future version of numpy, it will be understood as (type, (1,)) / '(1,)type'.\n",
      "  _np_quint8 = np.dtype([(\"quint8\", np.uint8, 1)])\n",
      "C:\\Users\\abmasud\\.conda\\envs\\masud\\lib\\site-packages\\tensorboard\\compat\\tensorflow_stub\\dtypes.py:543: FutureWarning: Passing (type, 1) or '1type' as a synonym of type is deprecated; in a future version of numpy, it will be understood as (type, (1,)) / '(1,)type'.\n",
      "  _np_qint16 = np.dtype([(\"qint16\", np.int16, 1)])\n",
      "C:\\Users\\abmasud\\.conda\\envs\\masud\\lib\\site-packages\\tensorboard\\compat\\tensorflow_stub\\dtypes.py:544: FutureWarning: Passing (type, 1) or '1type' as a synonym of type is deprecated; in a future version of numpy, it will be understood as (type, (1,)) / '(1,)type'.\n",
      "  _np_quint16 = np.dtype([(\"quint16\", np.uint16, 1)])\n",
      "C:\\Users\\abmasud\\.conda\\envs\\masud\\lib\\site-packages\\tensorboard\\compat\\tensorflow_stub\\dtypes.py:545: FutureWarning: Passing (type, 1) or '1type' as a synonym of type is deprecated; in a future version of numpy, it will be understood as (type, (1,)) / '(1,)type'.\n",
      "  _np_qint32 = np.dtype([(\"qint32\", np.int32, 1)])\n",
      "C:\\Users\\abmasud\\.conda\\envs\\masud\\lib\\site-packages\\tensorboard\\compat\\tensorflow_stub\\dtypes.py:550: FutureWarning: Passing (type, 1) or '1type' as a synonym of type is deprecated; in a future version of numpy, it will be understood as (type, (1,)) / '(1,)type'.\n",
      "  np_resource = np.dtype([(\"resource\", np.ubyte, 1)])\n"
     ]
    },
    {
     "name": "stdout",
     "output_type": "stream",
     "text": [
      "Epoch 1/100\n",
      "5625/5625 [==============================] - 0s 41us/sample - loss: 0.5010 - acc: 0.7518\n",
      "Epoch 2/100\n",
      "5625/5625 [==============================] - 0s 23us/sample - loss: 0.4219 - acc: 0.7982\n",
      "Epoch 3/100\n",
      "5625/5625 [==============================] - 0s 23us/sample - loss: 0.4177 - acc: 0.8023\n",
      "Epoch 4/100\n",
      "5625/5625 [==============================] - 0s 23us/sample - loss: 0.4156 - acc: 0.8028\n",
      "Epoch 5/100\n",
      "5625/5625 [==============================] - 0s 23us/sample - loss: 0.4138 - acc: 0.8043\n",
      "Epoch 6/100\n",
      "5625/5625 [==============================] - 0s 22us/sample - loss: 0.4120 - acc: 0.8076\n",
      "Epoch 7/100\n",
      "5625/5625 [==============================] - 0s 23us/sample - loss: 0.4109 - acc: 0.8055\n",
      "Epoch 8/100\n",
      "5625/5625 [==============================] - 0s 23us/sample - loss: 0.4101 - acc: 0.8071\n",
      "Epoch 9/100\n",
      "5625/5625 [==============================] - 0s 23us/sample - loss: 0.4080 - acc: 0.8108\n",
      "Epoch 10/100\n",
      "5625/5625 [==============================] - 0s 22us/sample - loss: 0.4078 - acc: 0.8103\n",
      "Epoch 11/100\n",
      "5625/5625 [==============================] - 0s 23us/sample - loss: 0.4053 - acc: 0.8130\n",
      "Epoch 12/100\n",
      "5625/5625 [==============================] - 0s 22us/sample - loss: 0.4043 - acc: 0.8123\n",
      "Epoch 13/100\n",
      "5625/5625 [==============================] - 0s 23us/sample - loss: 0.4025 - acc: 0.8123\n",
      "Epoch 14/100\n",
      "5625/5625 [==============================] - 0s 23us/sample - loss: 0.4021 - acc: 0.8172\n",
      "Epoch 15/100\n",
      "5625/5625 [==============================] - 0s 23us/sample - loss: 0.4002 - acc: 0.8144\n",
      "Epoch 16/100\n",
      "5625/5625 [==============================] - 0s 23us/sample - loss: 0.3982 - acc: 0.8169\n",
      "Epoch 17/100\n",
      "5625/5625 [==============================] - 0s 22us/sample - loss: 0.3979 - acc: 0.8167\n",
      "Epoch 18/100\n",
      "5625/5625 [==============================] - 0s 22us/sample - loss: 0.3962 - acc: 0.8164\n",
      "Epoch 19/100\n",
      "5625/5625 [==============================] - 0s 22us/sample - loss: 0.3960 - acc: 0.8171\n",
      "Epoch 20/100\n",
      "5625/5625 [==============================] - 0s 24us/sample - loss: 0.3938 - acc: 0.8180\n",
      "Epoch 21/100\n",
      "5625/5625 [==============================] - 0s 22us/sample - loss: 0.3927 - acc: 0.8208\n",
      "Epoch 22/100\n",
      "5625/5625 [==============================] - 0s 23us/sample - loss: 0.3921 - acc: 0.8176\n",
      "Epoch 23/100\n",
      "5625/5625 [==============================] - 0s 22us/sample - loss: 0.3916 - acc: 0.8196\n",
      "Epoch 24/100\n",
      "5625/5625 [==============================] - 0s 23us/sample - loss: 0.3902 - acc: 0.8188\n",
      "Epoch 25/100\n",
      "5625/5625 [==============================] - 0s 22us/sample - loss: 0.3886 - acc: 0.8172\n",
      "Epoch 26/100\n",
      "5625/5625 [==============================] - 0s 23us/sample - loss: 0.3884 - acc: 0.8224\n",
      "Epoch 27/100\n",
      "5625/5625 [==============================] - 0s 22us/sample - loss: 0.3872 - acc: 0.8196\n",
      "Epoch 28/100\n",
      "5625/5625 [==============================] - 0s 22us/sample - loss: 0.3881 - acc: 0.8185\n",
      "Epoch 29/100\n",
      "5625/5625 [==============================] - 0s 23us/sample - loss: 0.3871 - acc: 0.8188\n",
      "Epoch 30/100\n",
      "5625/5625 [==============================] - 0s 22us/sample - loss: 0.3843 - acc: 0.8188\n",
      "Epoch 31/100\n",
      "5625/5625 [==============================] - 0s 23us/sample - loss: 0.3839 - acc: 0.8226\n",
      "Epoch 32/100\n",
      "5625/5625 [==============================] - 0s 23us/sample - loss: 0.3820 - acc: 0.8220\n",
      "Epoch 33/100\n",
      "5625/5625 [==============================] - 0s 23us/sample - loss: 0.3812 - acc: 0.8210\n",
      "Epoch 34/100\n",
      "5625/5625 [==============================] - 0s 22us/sample - loss: 0.3808 - acc: 0.8217\n",
      "Epoch 35/100\n",
      "5625/5625 [==============================] - 0s 21us/sample - loss: 0.3796 - acc: 0.8213\n",
      "Epoch 36/100\n",
      "5625/5625 [==============================] - 0s 22us/sample - loss: 0.3794 - acc: 0.8180\n",
      "Epoch 37/100\n",
      "5625/5625 [==============================] - 0s 23us/sample - loss: 0.3776 - acc: 0.8238\n",
      "Epoch 38/100\n",
      "5625/5625 [==============================] - 0s 22us/sample - loss: 0.3776 - acc: 0.8235\n",
      "Epoch 39/100\n",
      "5625/5625 [==============================] - 0s 22us/sample - loss: 0.3773 - acc: 0.8252\n",
      "Epoch 40/100\n",
      "5625/5625 [==============================] - 0s 23us/sample - loss: 0.3748 - acc: 0.8240\n",
      "Epoch 41/100\n",
      "5625/5625 [==============================] - 0s 22us/sample - loss: 0.3749 - acc: 0.8265\n",
      "Epoch 42/100\n",
      "5625/5625 [==============================] - 0s 24us/sample - loss: 0.3730 - acc: 0.8245\n",
      "Epoch 43/100\n",
      "5625/5625 [==============================] - 0s 23us/sample - loss: 0.3730 - acc: 0.8242\n",
      "Epoch 44/100\n",
      "5625/5625 [==============================] - 0s 24us/sample - loss: 0.3712 - acc: 0.8252\n",
      "Epoch 45/100\n",
      "5625/5625 [==============================] - 0s 23us/sample - loss: 0.3714 - acc: 0.8274\n",
      "Epoch 46/100\n",
      "5625/5625 [==============================] - 0s 24us/sample - loss: 0.3706 - acc: 0.8263\n",
      "Epoch 47/100\n",
      "5625/5625 [==============================] - 0s 25us/sample - loss: 0.3698 - acc: 0.8283\n",
      "Epoch 48/100\n",
      "5625/5625 [==============================] - 0s 22us/sample - loss: 0.3682 - acc: 0.8274\n",
      "Epoch 49/100\n",
      "5625/5625 [==============================] - 0s 24us/sample - loss: 0.3678 - acc: 0.8276\n",
      "Epoch 50/100\n",
      "5625/5625 [==============================] - 0s 24us/sample - loss: 0.3668 - acc: 0.8288\n",
      "Epoch 51/100\n",
      "5625/5625 [==============================] - 0s 24us/sample - loss: 0.3667 - acc: 0.8313\n",
      "Epoch 52/100\n",
      "5625/5625 [==============================] - 0s 22us/sample - loss: 0.3651 - acc: 0.8304\n",
      "Epoch 53/100\n",
      "5625/5625 [==============================] - 0s 23us/sample - loss: 0.3646 - acc: 0.8288\n",
      "Epoch 54/100\n",
      "5625/5625 [==============================] - 0s 23us/sample - loss: 0.3652 - acc: 0.8281\n",
      "Epoch 55/100\n",
      "5625/5625 [==============================] - 0s 23us/sample - loss: 0.3631 - acc: 0.8306\n",
      "Epoch 56/100\n",
      "5625/5625 [==============================] - 0s 22us/sample - loss: 0.3624 - acc: 0.8304\n",
      "Epoch 57/100\n",
      "5625/5625 [==============================] - 0s 23us/sample - loss: 0.3630 - acc: 0.8295\n",
      "Epoch 58/100\n",
      "5625/5625 [==============================] - 0s 22us/sample - loss: 0.3608 - acc: 0.8315\n",
      "Epoch 59/100\n",
      "5625/5625 [==============================] - 0s 22us/sample - loss: 0.3609 - acc: 0.8324\n",
      "Epoch 60/100\n",
      "5625/5625 [==============================] - 0s 22us/sample - loss: 0.3601 - acc: 0.8331\n",
      "Epoch 61/100\n",
      "5625/5625 [==============================] - 0s 23us/sample - loss: 0.3583 - acc: 0.8313\n",
      "Epoch 62/100\n",
      "5625/5625 [==============================] - 0s 22us/sample - loss: 0.3585 - acc: 0.8325\n",
      "Epoch 63/100\n",
      "5625/5625 [==============================] - 0s 22us/sample - loss: 0.3592 - acc: 0.8320\n",
      "Epoch 64/100\n",
      "5625/5625 [==============================] - 0s 22us/sample - loss: 0.3573 - acc: 0.8336\n",
      "Epoch 65/100\n",
      "5625/5625 [==============================] - 0s 22us/sample - loss: 0.3567 - acc: 0.8325\n",
      "Epoch 66/100\n",
      "5625/5625 [==============================] - 0s 22us/sample - loss: 0.3567 - acc: 0.8325\n",
      "Epoch 67/100\n",
      "5625/5625 [==============================] - 0s 22us/sample - loss: 0.3554 - acc: 0.8315\n",
      "Epoch 68/100\n",
      "5625/5625 [==============================] - 0s 22us/sample - loss: 0.3549 - acc: 0.8341\n",
      "Epoch 69/100\n",
      "5625/5625 [==============================] - 0s 22us/sample - loss: 0.3547 - acc: 0.8341\n",
      "Epoch 70/100\n",
      "5625/5625 [==============================] - 0s 22us/sample - loss: 0.3529 - acc: 0.8338\n",
      "Epoch 71/100\n",
      "5625/5625 [==============================] - 0s 23us/sample - loss: 0.3544 - acc: 0.8343\n",
      "Epoch 72/100\n",
      "5625/5625 [==============================] - 0s 22us/sample - loss: 0.3524 - acc: 0.8350\n",
      "Epoch 73/100\n",
      "5625/5625 [==============================] - 0s 22us/sample - loss: 0.3508 - acc: 0.8373\n",
      "Epoch 74/100\n",
      "5625/5625 [==============================] - 0s 22us/sample - loss: 0.3525 - acc: 0.8338\n",
      "Epoch 75/100\n",
      "5625/5625 [==============================] - 0s 22us/sample - loss: 0.3522 - acc: 0.8325\n",
      "Epoch 76/100\n",
      "5625/5625 [==============================] - 0s 22us/sample - loss: 0.3499 - acc: 0.8347\n",
      "Epoch 77/100\n",
      "5625/5625 [==============================] - 0s 22us/sample - loss: 0.3499 - acc: 0.8345\n",
      "Epoch 78/100\n",
      "5625/5625 [==============================] - 0s 22us/sample - loss: 0.3508 - acc: 0.8343\n",
      "Epoch 79/100\n",
      "5625/5625 [==============================] - 0s 22us/sample - loss: 0.3496 - acc: 0.8356\n",
      "Epoch 80/100\n",
      "5625/5625 [==============================] - 0s 22us/sample - loss: 0.3488 - acc: 0.8375\n",
      "Epoch 81/100\n",
      "5625/5625 [==============================] - 0s 22us/sample - loss: 0.3488 - acc: 0.8386\n",
      "Epoch 82/100\n",
      "5625/5625 [==============================] - 0s 22us/sample - loss: 0.3476 - acc: 0.8366\n",
      "Epoch 83/100\n",
      "5625/5625 [==============================] - 0s 22us/sample - loss: 0.3471 - acc: 0.8356\n",
      "Epoch 84/100\n",
      "5625/5625 [==============================] - 0s 22us/sample - loss: 0.3459 - acc: 0.8400\n",
      "Epoch 85/100\n",
      "5625/5625 [==============================] - 0s 22us/sample - loss: 0.3462 - acc: 0.8377\n",
      "Epoch 86/100\n",
      "5625/5625 [==============================] - 0s 23us/sample - loss: 0.3453 - acc: 0.8377\n",
      "Epoch 87/100\n",
      "5625/5625 [==============================] - 0s 22us/sample - loss: 0.3452 - acc: 0.8379\n",
      "Epoch 88/100\n",
      "5625/5625 [==============================] - 0s 22us/sample - loss: 0.3447 - acc: 0.8398\n",
      "Epoch 89/100\n",
      "5625/5625 [==============================] - 0s 22us/sample - loss: 0.3446 - acc: 0.8380\n",
      "Epoch 90/100\n",
      "5625/5625 [==============================] - 0s 22us/sample - loss: 0.3433 - acc: 0.8382\n",
      "Epoch 91/100\n",
      "5625/5625 [==============================] - 0s 22us/sample - loss: 0.3431 - acc: 0.8388\n",
      "Epoch 92/100\n",
      "5625/5625 [==============================] - 0s 22us/sample - loss: 0.3430 - acc: 0.8388\n",
      "Epoch 93/100\n",
      "5625/5625 [==============================] - 0s 22us/sample - loss: 0.3438 - acc: 0.8407\n",
      "Epoch 94/100\n",
      "5625/5625 [==============================] - 0s 22us/sample - loss: 0.3418 - acc: 0.8363\n",
      "Epoch 95/100\n",
      "5625/5625 [==============================] - 0s 22us/sample - loss: 0.3417 - acc: 0.8382\n",
      "Epoch 96/100\n",
      "5625/5625 [==============================] - 0s 22us/sample - loss: 0.3403 - acc: 0.8396\n",
      "Epoch 97/100\n",
      "5625/5625 [==============================] - 0s 22us/sample - loss: 0.3415 - acc: 0.8418\n",
      "Epoch 98/100\n",
      "5625/5625 [==============================] - 0s 22us/sample - loss: 0.3405 - acc: 0.8421\n",
      "Epoch 99/100\n",
      "5625/5625 [==============================] - 0s 22us/sample - loss: 0.3404 - acc: 0.8402\n",
      "Epoch 100/100\n",
      "5625/5625 [==============================] - 0s 22us/sample - loss: 0.3395 - acc: 0.8459\n"
     ]
    },
    {
     "data": {
      "text/plain": [
       "<tensorflow.python.keras.callbacks.History at 0x1b60ae96988>"
      ]
     },
     "execution_count": 35,
     "metadata": {},
     "output_type": "execute_result"
    }
   ],
   "source": [
    "import tensorflow as tf\n",
    "from tensorflow import keras\n",
    "\n",
    "import tensorflow as tf\n",
    "from tensorflow import keras\n",
    "\n",
    "\n",
    "model = keras.Sequential([\n",
    "    keras.layers.Dense(26, input_shape=(26,), activation='relu'),\n",
    "    keras.layers.Dense(15, activation='relu'),\n",
    "    keras.layers.Dense(1, activation='sigmoid')\n",
    "])\n",
    "\n",
    "# opt = keras.optimizers.Adam(learning_rate=0.01)\n",
    "\n",
    "model.compile(optimizer='adam',\n",
    "              loss='binary_crossentropy',\n",
    "              metrics=['accuracy'])\n",
    "\n",
    "model.fit(X_train, y_train, epochs=100)\n"
   ]
  },
  {
   "cell_type": "code",
   "execution_count": 36,
   "metadata": {},
   "outputs": [
    {
     "name": "stdout",
     "output_type": "stream",
     "text": [
      "1407/1407 [==============================] - 0s 23us/sample - loss: 0.5114 - acc: 0.7662\n"
     ]
    },
    {
     "data": {
      "text/plain": [
       "[0.5114395369344683, 0.76616913]"
      ]
     },
     "execution_count": 36,
     "metadata": {},
     "output_type": "execute_result"
    }
   ],
   "source": [
    "model.evaluate(X_test,y_test)"
   ]
  },
  {
   "cell_type": "code",
   "execution_count": 37,
   "metadata": {},
   "outputs": [
    {
     "data": {
      "text/plain": [
       "array([[0.16671479],\n",
       "       [0.6983364 ],\n",
       "       [0.00314212],\n",
       "       [0.6387346 ],\n",
       "       [0.3757848 ]], dtype=float32)"
      ]
     },
     "execution_count": 37,
     "metadata": {},
     "output_type": "execute_result"
    }
   ],
   "source": [
    "yp=model.predict(X_test)\n",
    "yp[:5]"
   ]
  },
  {
   "cell_type": "code",
   "execution_count": 38,
   "metadata": {},
   "outputs": [],
   "source": [
    "y_pred = []\n",
    "for element in yp:\n",
    "    if element > 0.5:\n",
    "        y_pred.append(1)\n",
    "    else:\n",
    "        y_pred.append(0)\n",
    "    "
   ]
  },
  {
   "cell_type": "code",
   "execution_count": 39,
   "metadata": {},
   "outputs": [
    {
     "data": {
      "text/plain": [
       "[0, 1, 0, 1, 0, 1, 0, 0, 0, 0]"
      ]
     },
     "execution_count": 39,
     "metadata": {},
     "output_type": "execute_result"
    }
   ],
   "source": [
    "y_pred[:10]"
   ]
  },
  {
   "cell_type": "code",
   "execution_count": 40,
   "metadata": {},
   "outputs": [
    {
     "data": {
      "text/plain": [
       "2660    0\n",
       "744     0\n",
       "5579    1\n",
       "64      1\n",
       "3287    1\n",
       "816     1\n",
       "2670    0\n",
       "5920    0\n",
       "1023    0\n",
       "6087    0\n",
       "Name: Churn, dtype: int64"
      ]
     },
     "execution_count": 40,
     "metadata": {},
     "output_type": "execute_result"
    }
   ],
   "source": [
    "y_test[:10]"
   ]
  },
  {
   "cell_type": "code",
   "execution_count": 41,
   "metadata": {},
   "outputs": [],
   "source": [
    "y_test[:10]\n",
    "y_pred=np.array(y_pred)\n"
   ]
  },
  {
   "cell_type": "code",
   "execution_count": 42,
   "metadata": {
    "scrolled": true
   },
   "outputs": [
    {
     "name": "stdout",
     "output_type": "stream",
     "text": [
      "              precision    recall  f1-score   support\n",
      "\n",
      "           0       0.82      0.86      0.84       999\n",
      "           1       0.61      0.53      0.57       408\n",
      "\n",
      "    accuracy                           0.77      1407\n",
      "   macro avg       0.71      0.70      0.70      1407\n",
      "weighted avg       0.76      0.77      0.76      1407\n",
      "\n"
     ]
    }
   ],
   "source": [
    "from sklearn.metrics import confusion_matrix , classification_report\n",
    "\n",
    "print(classification_report(y_test,y_pred))"
   ]
  },
  {
   "cell_type": "code",
   "execution_count": 43,
   "metadata": {},
   "outputs": [
    {
     "data": {
      "text/plain": [
       "(1407,)"
      ]
     },
     "execution_count": 43,
     "metadata": {},
     "output_type": "execute_result"
    }
   ],
   "source": [
    "y_test.shape"
   ]
  },
  {
   "cell_type": "code",
   "execution_count": 44,
   "metadata": {},
   "outputs": [
    {
     "data": {
      "text/plain": [
       "(1407,)"
      ]
     },
     "execution_count": 44,
     "metadata": {},
     "output_type": "execute_result"
    }
   ],
   "source": [
    "y_test.shape"
   ]
  },
  {
   "cell_type": "code",
   "execution_count": 45,
   "metadata": {},
   "outputs": [
    {
     "data": {
      "text/plain": [
       "(1407,)"
      ]
     },
     "execution_count": 45,
     "metadata": {},
     "output_type": "execute_result"
    }
   ],
   "source": [
    "y_pred.shape"
   ]
  },
  {
   "cell_type": "code",
   "execution_count": 46,
   "metadata": {},
   "outputs": [
    {
     "ename": "NameError",
     "evalue": "name 'cm' is not defined",
     "output_type": "error",
     "traceback": [
      "\u001b[1;31m---------------------------------------------------------------------------\u001b[0m",
      "\u001b[1;31mNameError\u001b[0m                                 Traceback (most recent call last)",
      "\u001b[1;32m~\\AppData\\Local\\Temp\\ipykernel_17908\\1166442551.py\u001b[0m in \u001b[0;36m<module>\u001b[1;34m\u001b[0m\n\u001b[0;32m      7\u001b[0m \u001b[0msess\u001b[0m \u001b[1;33m=\u001b[0m \u001b[0mtf\u001b[0m\u001b[1;33m.\u001b[0m\u001b[0mcompat\u001b[0m\u001b[1;33m.\u001b[0m\u001b[0mv1\u001b[0m\u001b[1;33m.\u001b[0m\u001b[0mSession\u001b[0m\u001b[1;33m(\u001b[0m\u001b[1;33m)\u001b[0m  \u001b[1;31m# Create a TensorFlow session\u001b[0m\u001b[1;33m\u001b[0m\u001b[1;33m\u001b[0m\u001b[0m\n\u001b[0;32m      8\u001b[0m \u001b[1;32mwith\u001b[0m \u001b[0msess\u001b[0m\u001b[1;33m.\u001b[0m\u001b[0mas_default\u001b[0m\u001b[1;33m(\u001b[0m\u001b[1;33m)\u001b[0m\u001b[1;33m:\u001b[0m\u001b[1;33m\u001b[0m\u001b[1;33m\u001b[0m\u001b[0m\n\u001b[1;32m----> 9\u001b[1;33m     \u001b[0mcm_np\u001b[0m \u001b[1;33m=\u001b[0m \u001b[0mcm\u001b[0m\u001b[1;33m.\u001b[0m\u001b[0meval\u001b[0m\u001b[1;33m(\u001b[0m\u001b[1;33m)\u001b[0m  \u001b[1;31m# Evaluate the tensor to get a NumPy array\u001b[0m\u001b[1;33m\u001b[0m\u001b[1;33m\u001b[0m\u001b[0m\n\u001b[0m\u001b[0;32m     10\u001b[0m \u001b[1;33m\u001b[0m\u001b[0m\n\u001b[0;32m     11\u001b[0m \u001b[1;31m# Create heatmap\u001b[0m\u001b[1;33m\u001b[0m\u001b[1;33m\u001b[0m\u001b[1;33m\u001b[0m\u001b[0m\n",
      "\u001b[1;31mNameError\u001b[0m: name 'cm' is not defined"
     ]
    }
   ],
   "source": [
    "import numpy as np\n",
    "import matplotlib.pyplot as plt\n",
    "import seaborn as sn\n",
    "import tensorflow as tf\n",
    "\n",
    "# Assuming cm is a TensorFlow tensor\n",
    "sess = tf.compat.v1.Session()  # Create a TensorFlow session\n",
    "with sess.as_default():\n",
    "    cm_np = cm.eval()  # Evaluate the tensor to get a NumPy array\n",
    "\n",
    "# Create heatmap\n",
    "plt.figure(figsize=(10, 7))\n",
    "sn.heatmap(cm_np, annot=True, fmt='d')\n",
    "plt.xlabel('Predicted')\n",
    "plt.ylabel('Truth')\n",
    "plt.show()\n"
   ]
  },
  {
   "cell_type": "markdown",
   "metadata": {},
   "source": [
    "# Method 1: Undersample"
   ]
  },
  {
   "cell_type": "code",
   "execution_count": null,
   "metadata": {},
   "outputs": [],
   "source": [
    " #handling the imbalance data; y_test values 1 has 408 times, 0 has 999 times\n",
    "   \n",
    " #class count\n",
    "count_class_0,count_class_1=df1.Churn.value_counts()\n",
    "\n",
    "#Divide by class\n",
    "\n",
    "df_class_0=df2[df2['Churn']== 0]\n",
    "df_class_1=df2[df2['Churn']== 1]  "
   ]
  },
  {
   "cell_type": "code",
   "execution_count": null,
   "metadata": {},
   "outputs": [],
   "source": [
    "count_class_0,count_class_1 # 5163 number of 0's and 1869 numbers of 1"
   ]
  },
  {
   "cell_type": "code",
   "execution_count": null,
   "metadata": {},
   "outputs": [],
   "source": [
    "df_class_0.shape"
   ]
  },
  {
   "cell_type": "code",
   "execution_count": null,
   "metadata": {},
   "outputs": [],
   "source": [
    "df_class_1.shape"
   ]
  },
  {
   "cell_type": "code",
   "execution_count": null,
   "metadata": {},
   "outputs": [],
   "source": [
    "df_class_0.sample(count_class_1).shape  #making the same size as df_class_1 as we want to have the same numbers of 0 and 1 to handle imbalance"
   ]
  },
  {
   "cell_type": "code",
   "execution_count": null,
   "metadata": {},
   "outputs": [],
   "source": [
    "#we have to combine the same size of 0 and 1 together\n",
    "\n",
    "df_class_0_under=df_class_0.sample(count_class_1)\n",
    "df_test_under=pd.concat([df_class_0_under,df_class_1],axis=0) #this contains balance sample having same size of 1 and 0\n",
    "df_test_under.shape"
   ]
  },
  {
   "cell_type": "code",
   "execution_count": null,
   "metadata": {},
   "outputs": [],
   "source": [
    "X=df_test_under.drop('Churn',axis='columns')\n",
    "y=df_test_under['Churn']\n",
    "from sklearn.model_selection import train_test_split\n",
    "X_train, X_test, y_train, y_test = train_test_split(X,y,test_size=0.2,random_state=15, stratify=y) #stratify will assure same number of 0 and 1 in both X_tratin and X_test\n"
   ]
  },
  {
   "cell_type": "code",
   "execution_count": null,
   "metadata": {},
   "outputs": [],
   "source": [
    "y_train.value_counts() #same number of 0 and 1"
   ]
  },
  {
   "cell_type": "code",
   "execution_count": null,
   "metadata": {},
   "outputs": [],
   "source": [
    "y_test.value_counts()#same number of 0 and 1"
   ]
  },
  {
   "cell_type": "code",
   "execution_count": null,
   "metadata": {},
   "outputs": [],
   "source": [
    "X_train.shape"
   ]
  },
  {
   "cell_type": "code",
   "execution_count": null,
   "metadata": {},
   "outputs": [],
   "source": [
    "from tensorflow_addons import losses"
   ]
  },
  {
   "cell_type": "code",
   "execution_count": null,
   "metadata": {},
   "outputs": [],
   "source": [
    "import tensorflow as tf\n",
    "from tensorflow import keras\n",
    "from sklearn.metrics import confusion_matrix , classification_report"
   ]
  },
  {
   "cell_type": "code",
   "execution_count": 67,
   "metadata": {},
   "outputs": [],
   "source": [
    "def ANN(X_train, y_train, X_test, y_test, loss, weights):\n",
    "    model = keras.Sequential([\n",
    "        keras.layers.Dense(26, input_dim=26, activation='relu'),\n",
    "        keras.layers.Dense(15, activation='relu'),\n",
    "        keras.layers.Dense(1, activation='sigmoid')\n",
    "    ])\n",
    "\n",
    "    model.compile(optimizer='adam', loss=loss, metrics=['accuracy'])\n",
    "    \n",
    "    if weights == -1:\n",
    "        model.fit(X_train, y_train, epochs=100)\n",
    "    else:\n",
    "        model.fit(X_train, y_train, epochs=100, class_weight = weights)\n",
    "    \n",
    "    print(model.evaluate(X_test, y_test))\n",
    "    \n",
    "    y_preds = model.predict(X_test)\n",
    "    y_preds = np.round(y_preds)\n",
    "    \n",
    "    print(\"Classification Report: \\n\", classification_report(y_test, y_preds))\n",
    "    \n",
    "    return y_preds"
   ]
  },
  {
   "cell_type": "code",
   "execution_count": 68,
   "metadata": {},
   "outputs": [
    {
     "name": "stdout",
     "output_type": "stream",
     "text": [
      "Epoch 1/100\n",
      "8260/8260 [==============================] - 0s 32us/sample - loss: 0.5211 - acc: 0.7500\n",
      "Epoch 2/100\n",
      "8260/8260 [==============================] - 0s 22us/sample - loss: 0.4616 - acc: 0.7820\n",
      "Epoch 3/100\n",
      "8260/8260 [==============================] - 0s 23us/sample - loss: 0.4538 - acc: 0.7858\n",
      "Epoch 4/100\n",
      "8260/8260 [==============================] - 0s 22us/sample - loss: 0.4496 - acc: 0.7869\n",
      "Epoch 5/100\n",
      "8260/8260 [==============================] - 0s 23us/sample - loss: 0.4436 - acc: 0.7927\n",
      "Epoch 6/100\n",
      "8260/8260 [==============================] - 0s 22us/sample - loss: 0.4397 - acc: 0.7930\n",
      "Epoch 7/100\n",
      "8260/8260 [==============================] - 0s 22us/sample - loss: 0.4369 - acc: 0.7971\n",
      "Epoch 8/100\n",
      "8260/8260 [==============================] - 0s 23us/sample - loss: 0.4317 - acc: 0.8000\n",
      "Epoch 9/100\n",
      "8260/8260 [==============================] - 0s 23us/sample - loss: 0.4293 - acc: 0.8028\n",
      "Epoch 10/100\n",
      "8260/8260 [==============================] - 0s 23us/sample - loss: 0.4252 - acc: 0.8017\n",
      "Epoch 11/100\n",
      "8260/8260 [==============================] - 0s 22us/sample - loss: 0.4227 - acc: 0.8050\n",
      "Epoch 12/100\n",
      "8260/8260 [==============================] - 0s 22us/sample - loss: 0.4181 - acc: 0.8091\n",
      "Epoch 13/100\n",
      "8260/8260 [==============================] - 0s 22us/sample - loss: 0.4157 - acc: 0.8100\n",
      "Epoch 14/100\n",
      "8260/8260 [==============================] - 0s 22us/sample - loss: 0.4127 - acc: 0.8128\n",
      "Epoch 15/100\n",
      "8260/8260 [==============================] - 0s 22us/sample - loss: 0.4107 - acc: 0.8132\n",
      "Epoch 16/100\n",
      "8260/8260 [==============================] - 0s 22us/sample - loss: 0.4079 - acc: 0.8128\n",
      "Epoch 17/100\n",
      "8260/8260 [==============================] - 0s 23us/sample - loss: 0.4058 - acc: 0.8176\n",
      "Epoch 18/100\n",
      "8260/8260 [==============================] - 0s 22us/sample - loss: 0.4034 - acc: 0.8177\n",
      "Epoch 19/100\n",
      "8260/8260 [==============================] - 0s 23us/sample - loss: 0.4015 - acc: 0.8214\n",
      "Epoch 20/100\n",
      "8260/8260 [==============================] - 0s 22us/sample - loss: 0.3984 - acc: 0.8205\n",
      "Epoch 21/100\n",
      "8260/8260 [==============================] - 0s 22us/sample - loss: 0.3965 - acc: 0.8225\n",
      "Epoch 22/100\n",
      "8260/8260 [==============================] - 0s 23us/sample - loss: 0.3959 - acc: 0.8236\n",
      "Epoch 23/100\n",
      "8260/8260 [==============================] - 0s 23us/sample - loss: 0.3947 - acc: 0.8237\n",
      "Epoch 24/100\n",
      "8260/8260 [==============================] - 0s 22us/sample - loss: 0.3919 - acc: 0.8257\n",
      "Epoch 25/100\n",
      "8260/8260 [==============================] - 0s 22us/sample - loss: 0.3891 - acc: 0.8270\n",
      "Epoch 26/100\n",
      "8260/8260 [==============================] - 0s 22us/sample - loss: 0.3879 - acc: 0.8265\n",
      "Epoch 27/100\n",
      "8260/8260 [==============================] - 0s 23us/sample - loss: 0.3857 - acc: 0.8254\n",
      "Epoch 28/100\n",
      "8260/8260 [==============================] - 0s 23us/sample - loss: 0.3854 - acc: 0.8295\n",
      "Epoch 29/100\n",
      "8260/8260 [==============================] - 0s 23us/sample - loss: 0.3827 - acc: 0.8274\n",
      "Epoch 30/100\n",
      "8260/8260 [==============================] - 0s 22us/sample - loss: 0.3829 - acc: 0.8300\n",
      "Epoch 31/100\n",
      "8260/8260 [==============================] - 0s 23us/sample - loss: 0.3804 - acc: 0.8317\n",
      "Epoch 32/100\n",
      "8260/8260 [==============================] - 0s 23us/sample - loss: 0.3785 - acc: 0.8329\n",
      "Epoch 33/100\n",
      "8260/8260 [==============================] - 0s 23us/sample - loss: 0.3761 - acc: 0.8335\n",
      "Epoch 34/100\n",
      "8260/8260 [==============================] - 0s 23us/sample - loss: 0.3750 - acc: 0.8326\n",
      "Epoch 35/100\n",
      "8260/8260 [==============================] - 0s 22us/sample - loss: 0.3751 - acc: 0.8337\n",
      "Epoch 36/100\n",
      "8260/8260 [==============================] - 0s 22us/sample - loss: 0.3729 - acc: 0.8350\n",
      "Epoch 37/100\n",
      "8260/8260 [==============================] - 0s 23us/sample - loss: 0.3715 - acc: 0.8366\n",
      "Epoch 38/100\n",
      "8260/8260 [==============================] - 0s 23us/sample - loss: 0.3725 - acc: 0.8349\n",
      "Epoch 39/100\n",
      "8260/8260 [==============================] - 0s 23us/sample - loss: 0.3696 - acc: 0.8368\n",
      "Epoch 40/100\n",
      "8260/8260 [==============================] - 0s 22us/sample - loss: 0.3685 - acc: 0.8381\n",
      "Epoch 41/100\n",
      "8260/8260 [==============================] - 0s 22us/sample - loss: 0.3681 - acc: 0.8357\n",
      "Epoch 42/100\n",
      "8260/8260 [==============================] - 0s 22us/sample - loss: 0.3666 - acc: 0.8380\n",
      "Epoch 43/100\n",
      "8260/8260 [==============================] - 0s 22us/sample - loss: 0.3651 - acc: 0.8380\n",
      "Epoch 44/100\n",
      "8260/8260 [==============================] - 0s 23us/sample - loss: 0.3651 - acc: 0.8400\n",
      "Epoch 45/100\n",
      "8260/8260 [==============================] - 0s 22us/sample - loss: 0.3632 - acc: 0.8379\n",
      "Epoch 46/100\n",
      "8260/8260 [==============================] - 0s 22us/sample - loss: 0.3633 - acc: 0.8356\n",
      "Epoch 47/100\n",
      "8260/8260 [==============================] - 0s 22us/sample - loss: 0.3619 - acc: 0.8392\n",
      "Epoch 48/100\n",
      "8260/8260 [==============================] - 0s 23us/sample - loss: 0.3613 - acc: 0.8425\n",
      "Epoch 49/100\n",
      "8260/8260 [==============================] - 0s 23us/sample - loss: 0.3613 - acc: 0.8381\n",
      "Epoch 50/100\n",
      "8260/8260 [==============================] - 0s 24us/sample - loss: 0.3602 - acc: 0.8392\n",
      "Epoch 51/100\n",
      "8260/8260 [==============================] - 0s 24us/sample - loss: 0.3600 - acc: 0.8400\n",
      "Epoch 52/100\n",
      "8260/8260 [==============================] - 0s 28us/sample - loss: 0.3579 - acc: 0.8396\n",
      "Epoch 53/100\n",
      "8260/8260 [==============================] - 0s 27us/sample - loss: 0.3582 - acc: 0.8393\n",
      "Epoch 54/100\n",
      "8260/8260 [==============================] - 0s 26us/sample - loss: 0.3575 - acc: 0.8404\n",
      "Epoch 55/100\n",
      "8260/8260 [==============================] - 0s 25us/sample - loss: 0.3572 - acc: 0.8426\n",
      "Epoch 56/100\n",
      "8260/8260 [==============================] - 0s 23us/sample - loss: 0.3566 - acc: 0.8421\n",
      "Epoch 57/100\n",
      "8260/8260 [==============================] - 0s 22us/sample - loss: 0.3570 - acc: 0.8403\n",
      "Epoch 58/100\n",
      "8260/8260 [==============================] - 0s 23us/sample - loss: 0.3559 - acc: 0.8402\n",
      "Epoch 59/100\n",
      "8260/8260 [==============================] - 0s 22us/sample - loss: 0.3562 - acc: 0.8436\n",
      "Epoch 60/100\n",
      "8260/8260 [==============================] - 0s 22us/sample - loss: 0.3539 - acc: 0.8458\n",
      "Epoch 61/100\n",
      "8260/8260 [==============================] - 0s 22us/sample - loss: 0.3534 - acc: 0.8418\n",
      "Epoch 62/100\n",
      "8260/8260 [==============================] - 0s 22us/sample - loss: 0.3551 - acc: 0.8439\n",
      "Epoch 63/100\n",
      "8260/8260 [==============================] - 0s 23us/sample - loss: 0.3535 - acc: 0.8443\n",
      "Epoch 64/100\n",
      "8260/8260 [==============================] - 0s 22us/sample - loss: 0.3504 - acc: 0.8475\n",
      "Epoch 65/100\n",
      "8260/8260 [==============================] - 0s 22us/sample - loss: 0.3515 - acc: 0.8429\n",
      "Epoch 66/100\n",
      "8260/8260 [==============================] - 0s 22us/sample - loss: 0.3494 - acc: 0.8426\n",
      "Epoch 67/100\n",
      "8260/8260 [==============================] - 0s 22us/sample - loss: 0.3505 - acc: 0.8424\n",
      "Epoch 68/100\n",
      "8260/8260 [==============================] - 0s 22us/sample - loss: 0.3486 - acc: 0.8455\n",
      "Epoch 69/100\n",
      "8260/8260 [==============================] - 0s 22us/sample - loss: 0.3496 - acc: 0.8464\n",
      "Epoch 70/100\n",
      "8260/8260 [==============================] - 0s 22us/sample - loss: 0.3484 - acc: 0.8429\n",
      "Epoch 71/100\n",
      "8260/8260 [==============================] - 0s 22us/sample - loss: 0.3501 - acc: 0.8448\n",
      "Epoch 72/100\n",
      "8260/8260 [==============================] - 0s 22us/sample - loss: 0.3487 - acc: 0.8426\n",
      "Epoch 73/100\n",
      "8260/8260 [==============================] - 0s 23us/sample - loss: 0.3468 - acc: 0.8493\n",
      "Epoch 74/100\n",
      "8260/8260 [==============================] - 0s 22us/sample - loss: 0.3463 - acc: 0.8470\n",
      "Epoch 75/100\n",
      "8260/8260 [==============================] - 0s 23us/sample - loss: 0.3495 - acc: 0.8437\n",
      "Epoch 76/100\n",
      "8260/8260 [==============================] - 0s 22us/sample - loss: 0.3460 - acc: 0.8479\n",
      "Epoch 77/100\n",
      "8260/8260 [==============================] - 0s 22us/sample - loss: 0.3458 - acc: 0.8462\n",
      "Epoch 78/100\n",
      "8260/8260 [==============================] - 0s 22us/sample - loss: 0.3484 - acc: 0.8447\n",
      "Epoch 79/100\n",
      "8260/8260 [==============================] - 0s 22us/sample - loss: 0.3448 - acc: 0.8477\n",
      "Epoch 80/100\n",
      "8260/8260 [==============================] - 0s 22us/sample - loss: 0.3448 - acc: 0.8476\n",
      "Epoch 81/100\n",
      "8260/8260 [==============================] - 0s 23us/sample - loss: 0.3446 - acc: 0.8472\n",
      "Epoch 82/100\n",
      "8260/8260 [==============================] - 0s 22us/sample - loss: 0.3426 - acc: 0.8473\n",
      "Epoch 83/100\n",
      "8260/8260 [==============================] - 0s 23us/sample - loss: 0.3431 - acc: 0.8472\n",
      "Epoch 84/100\n",
      "8260/8260 [==============================] - 0s 23us/sample - loss: 0.3416 - acc: 0.8508\n",
      "Epoch 85/100\n",
      "8260/8260 [==============================] - 0s 22us/sample - loss: 0.3423 - acc: 0.8471\n",
      "Epoch 86/100\n",
      "8260/8260 [==============================] - 0s 22us/sample - loss: 0.3423 - acc: 0.8481\n",
      "Epoch 87/100\n",
      "8260/8260 [==============================] - 0s 22us/sample - loss: 0.3427 - acc: 0.8475\n",
      "Epoch 88/100\n",
      "8260/8260 [==============================] - 0s 22us/sample - loss: 0.3418 - acc: 0.8485\n",
      "Epoch 89/100\n",
      "8260/8260 [==============================] - 0s 23us/sample - loss: 0.3416 - acc: 0.8483\n",
      "Epoch 90/100\n",
      "8260/8260 [==============================] - 0s 23us/sample - loss: 0.3403 - acc: 0.8482\n",
      "Epoch 91/100\n",
      "8260/8260 [==============================] - 0s 22us/sample - loss: 0.3425 - acc: 0.8476\n",
      "Epoch 92/100\n",
      "8260/8260 [==============================] - 0s 22us/sample - loss: 0.3395 - acc: 0.8499\n",
      "Epoch 93/100\n",
      "8260/8260 [==============================] - 0s 22us/sample - loss: 0.3418 - acc: 0.8496\n",
      "Epoch 94/100\n",
      "8260/8260 [==============================] - 0s 22us/sample - loss: 0.3416 - acc: 0.8481\n",
      "Epoch 95/100\n",
      "8260/8260 [==============================] - 0s 22us/sample - loss: 0.3379 - acc: 0.8499\n",
      "Epoch 96/100\n",
      "8260/8260 [==============================] - 0s 22us/sample - loss: 0.3412 - acc: 0.8469\n",
      "Epoch 97/100\n",
      "8260/8260 [==============================] - 0s 22us/sample - loss: 0.3384 - acc: 0.8502\n",
      "Epoch 98/100\n",
      "8260/8260 [==============================] - 0s 22us/sample - loss: 0.3367 - acc: 0.8522\n",
      "Epoch 99/100\n",
      "8260/8260 [==============================] - 0s 22us/sample - loss: 0.3385 - acc: 0.8525\n",
      "Epoch 100/100\n",
      "8260/8260 [==============================] - 0s 22us/sample - loss: 0.3371 - acc: 0.8517\n",
      "2066/2066 [==============================] - 0s 21us/sample - loss: 0.4436 - acc: 0.8015\n",
      "[0.4436415079313926, 0.8015489]\n",
      "Classification Report: \n",
      "               precision    recall  f1-score   support\n",
      "\n",
      "           0       0.85      0.73      0.79      1033\n",
      "           1       0.77      0.87      0.81      1033\n",
      "\n",
      "    accuracy                           0.80      2066\n",
      "   macro avg       0.81      0.80      0.80      2066\n",
      "weighted avg       0.81      0.80      0.80      2066\n",
      "\n"
     ]
    }
   ],
   "source": [
    "y_preds = ANN(X_train, y_train, X_test, y_test, 'binary_crossentropy', -1)\n",
    "\n",
    "#due to balance set, the precision, recall, and F-score for 1-class has increased"
   ]
  },
  {
   "cell_type": "markdown",
   "metadata": {},
   "source": [
    "# Method2: Oversampling"
   ]
  },
  {
   "cell_type": "code",
   "execution_count": null,
   "metadata": {},
   "outputs": [],
   "source": [
    "count_class_0, count_class_1"
   ]
  },
  {
   "cell_type": "code",
   "execution_count": null,
   "metadata": {},
   "outputs": [],
   "source": [
    "df_class_1_over=df_class_1.sample(count_class_0,replace=True)# increasing the numbers in class 1 same as the size of 0\n",
    "df_test_over=pd.concat([df_class_0,df_class_1_over],axis=0)#combining the daratsets\n",
    "df_test_over.shape"
   ]
  },
  {
   "cell_type": "code",
   "execution_count": null,
   "metadata": {},
   "outputs": [],
   "source": [
    "df_class_0.shape"
   ]
  },
  {
   "cell_type": "code",
   "execution_count": null,
   "metadata": {},
   "outputs": [],
   "source": [
    "print(df_test_over.Churn.value_counts())"
   ]
  },
  {
   "cell_type": "code",
   "execution_count": null,
   "metadata": {},
   "outputs": [],
   "source": [
    "X=df_test_over.drop('Churn',axis='columns')\n",
    "y=df_test_over['Churn']\n",
    "from sklearn.model_selection import train_test_split\n",
    "X_train, X_test, y_train, y_test = train_test_split(X,y,test_size=0.2,random_state=15, stratify=y) #stratify will assure same number of 0 and 1 in both X_tratin and X_test\n"
   ]
  },
  {
   "cell_type": "code",
   "execution_count": null,
   "metadata": {},
   "outputs": [],
   "source": [
    "y_train.value_counts() #checking if we have same number of 0 and 1 in y_train"
   ]
  },
  {
   "cell_type": "code",
   "execution_count": null,
   "metadata": {},
   "outputs": [],
   "source": [
    "y_test.value_counts()#checking if we have same number of 0 and 1 in y_test"
   ]
  },
  {
   "cell_type": "code",
   "execution_count": 70,
   "metadata": {},
   "outputs": [
    {
     "name": "stdout",
     "output_type": "stream",
     "text": [
      "Epoch 1/100\n",
      "8260/8260 [==============================] - 0s 35us/sample - loss: 0.5235 - acc: 0.7431\n",
      "Epoch 2/100\n",
      "8260/8260 [==============================] - 0s 25us/sample - loss: 0.4686 - acc: 0.7732\n",
      "Epoch 3/100\n",
      "8260/8260 [==============================] - 0s 24us/sample - loss: 0.4595 - acc: 0.7824\n",
      "Epoch 4/100\n",
      "8260/8260 [==============================] - 0s 24us/sample - loss: 0.4550 - acc: 0.7821\n",
      "Epoch 5/100\n",
      "8260/8260 [==============================] - 0s 24us/sample - loss: 0.4502 - acc: 0.7863\n",
      "Epoch 6/100\n",
      "8260/8260 [==============================] - 0s 25us/sample - loss: 0.4449 - acc: 0.7914\n",
      "Epoch 7/100\n",
      "8260/8260 [==============================] - 0s 24us/sample - loss: 0.4396 - acc: 0.7937\n",
      "Epoch 8/100\n",
      "8260/8260 [==============================] - 0s 24us/sample - loss: 0.4346 - acc: 0.7996\n",
      "Epoch 9/100\n",
      "8260/8260 [==============================] - 0s 24us/sample - loss: 0.4309 - acc: 0.8013\n",
      "Epoch 10/100\n",
      "8260/8260 [==============================] - 0s 25us/sample - loss: 0.4273 - acc: 0.8051\n",
      "Epoch 11/100\n",
      "8260/8260 [==============================] - 0s 24us/sample - loss: 0.4243 - acc: 0.8086\n",
      "Epoch 12/100\n",
      "8260/8260 [==============================] - 0s 24us/sample - loss: 0.4194 - acc: 0.8090\n",
      "Epoch 13/100\n",
      "8260/8260 [==============================] - 0s 24us/sample - loss: 0.4158 - acc: 0.8140\n",
      "Epoch 14/100\n",
      "8260/8260 [==============================] - 0s 24us/sample - loss: 0.4124 - acc: 0.8117\n",
      "Epoch 15/100\n",
      "8260/8260 [==============================] - 0s 24us/sample - loss: 0.4115 - acc: 0.8171\n",
      "Epoch 16/100\n",
      "8260/8260 [==============================] - 0s 24us/sample - loss: 0.4077 - acc: 0.8180\n",
      "Epoch 17/100\n",
      "8260/8260 [==============================] - 0s 23us/sample - loss: 0.4047 - acc: 0.8206\n",
      "Epoch 18/100\n",
      "8260/8260 [==============================] - 0s 23us/sample - loss: 0.4031 - acc: 0.8173\n",
      "Epoch 19/100\n",
      "8260/8260 [==============================] - 0s 23us/sample - loss: 0.3989 - acc: 0.8209\n",
      "Epoch 20/100\n",
      "8260/8260 [==============================] - 0s 23us/sample - loss: 0.3974 - acc: 0.8251\n",
      "Epoch 21/100\n",
      "8260/8260 [==============================] - 0s 23us/sample - loss: 0.3955 - acc: 0.8230\n",
      "Epoch 22/100\n",
      "8260/8260 [==============================] - 0s 23us/sample - loss: 0.3924 - acc: 0.8247\n",
      "Epoch 23/100\n",
      "8260/8260 [==============================] - 0s 25us/sample - loss: 0.3917 - acc: 0.8236\n",
      "Epoch 24/100\n",
      "8260/8260 [==============================] - 0s 23us/sample - loss: 0.3892 - acc: 0.8277\n",
      "Epoch 25/100\n",
      "8260/8260 [==============================] - 0s 24us/sample - loss: 0.3884 - acc: 0.8283\n",
      "Epoch 26/100\n",
      "8260/8260 [==============================] - 0s 23us/sample - loss: 0.3870 - acc: 0.8268\n",
      "Epoch 27/100\n",
      "8260/8260 [==============================] - 0s 24us/sample - loss: 0.3851 - acc: 0.8280\n",
      "Epoch 28/100\n",
      "8260/8260 [==============================] - 0s 24us/sample - loss: 0.3829 - acc: 0.8310\n",
      "Epoch 29/100\n",
      "8260/8260 [==============================] - 0s 24us/sample - loss: 0.3822 - acc: 0.8326\n",
      "Epoch 30/100\n",
      "8260/8260 [==============================] - 0s 24us/sample - loss: 0.3804 - acc: 0.8309\n",
      "Epoch 31/100\n",
      "8260/8260 [==============================] - 0s 24us/sample - loss: 0.3793 - acc: 0.8314\n",
      "Epoch 32/100\n",
      "8260/8260 [==============================] - 0s 25us/sample - loss: 0.3779 - acc: 0.8332\n",
      "Epoch 33/100\n",
      "8260/8260 [==============================] - 0s 24us/sample - loss: 0.3767 - acc: 0.8318\n",
      "Epoch 34/100\n",
      "8260/8260 [==============================] - 0s 24us/sample - loss: 0.3750 - acc: 0.8309\n",
      "Epoch 35/100\n",
      "8260/8260 [==============================] - 0s 23us/sample - loss: 0.3744 - acc: 0.8321\n",
      "Epoch 36/100\n",
      "8260/8260 [==============================] - 0s 23us/sample - loss: 0.3757 - acc: 0.8326\n",
      "Epoch 37/100\n",
      "8260/8260 [==============================] - 0s 23us/sample - loss: 0.3710 - acc: 0.8357\n",
      "Epoch 38/100\n",
      "8260/8260 [==============================] - 0s 23us/sample - loss: 0.3722 - acc: 0.8344\n",
      "Epoch 39/100\n",
      "8260/8260 [==============================] - 0s 23us/sample - loss: 0.3696 - acc: 0.8358\n",
      "Epoch 40/100\n",
      "8260/8260 [==============================] - 0s 23us/sample - loss: 0.3686 - acc: 0.8364\n",
      "Epoch 41/100\n",
      "8260/8260 [==============================] - 0s 23us/sample - loss: 0.3702 - acc: 0.8350\n",
      "Epoch 42/100\n",
      "8260/8260 [==============================] - 0s 23us/sample - loss: 0.3681 - acc: 0.8373\n",
      "Epoch 43/100\n",
      "8260/8260 [==============================] - 0s 23us/sample - loss: 0.3670 - acc: 0.8355\n",
      "Epoch 44/100\n",
      "8260/8260 [==============================] - 0s 24us/sample - loss: 0.3634 - acc: 0.8383\n",
      "Epoch 45/100\n",
      "8260/8260 [==============================] - 0s 24us/sample - loss: 0.3640 - acc: 0.8401\n",
      "Epoch 46/100\n",
      "8260/8260 [==============================] - 0s 24us/sample - loss: 0.3630 - acc: 0.8393\n",
      "Epoch 47/100\n",
      "8260/8260 [==============================] - 0s 24us/sample - loss: 0.3619 - acc: 0.8360\n",
      "Epoch 48/100\n",
      "8260/8260 [==============================] - 0s 23us/sample - loss: 0.3604 - acc: 0.8396\n",
      "Epoch 49/100\n",
      "8260/8260 [==============================] - 0s 24us/sample - loss: 0.3608 - acc: 0.8401\n",
      "Epoch 50/100\n",
      "8260/8260 [==============================] - 0s 24us/sample - loss: 0.3587 - acc: 0.8391\n",
      "Epoch 51/100\n",
      "8260/8260 [==============================] - 0s 23us/sample - loss: 0.3607 - acc: 0.8413\n",
      "Epoch 52/100\n",
      "8260/8260 [==============================] - 0s 23us/sample - loss: 0.3570 - acc: 0.8413\n",
      "Epoch 53/100\n",
      "8260/8260 [==============================] - 0s 23us/sample - loss: 0.3561 - acc: 0.8410\n",
      "Epoch 54/100\n",
      "8260/8260 [==============================] - 0s 24us/sample - loss: 0.3574 - acc: 0.8412\n",
      "Epoch 55/100\n",
      "8260/8260 [==============================] - 0s 24us/sample - loss: 0.3563 - acc: 0.8414\n",
      "Epoch 56/100\n",
      "8260/8260 [==============================] - 0s 24us/sample - loss: 0.3552 - acc: 0.8425\n",
      "Epoch 57/100\n",
      "8260/8260 [==============================] - 0s 23us/sample - loss: 0.3541 - acc: 0.8427\n",
      "Epoch 58/100\n",
      "8260/8260 [==============================] - 0s 24us/sample - loss: 0.3539 - acc: 0.8437\n",
      "Epoch 59/100\n",
      "8260/8260 [==============================] - 0s 24us/sample - loss: 0.3551 - acc: 0.8415\n",
      "Epoch 60/100\n",
      "8260/8260 [==============================] - 0s 24us/sample - loss: 0.3521 - acc: 0.8454\n",
      "Epoch 61/100\n",
      "8260/8260 [==============================] - 0s 24us/sample - loss: 0.3522 - acc: 0.8435\n",
      "Epoch 62/100\n",
      "8260/8260 [==============================] - 0s 24us/sample - loss: 0.3518 - acc: 0.8430\n",
      "Epoch 63/100\n",
      "8260/8260 [==============================] - 0s 23us/sample - loss: 0.3521 - acc: 0.8439\n",
      "Epoch 64/100\n",
      "8260/8260 [==============================] - 0s 23us/sample - loss: 0.3527 - acc: 0.8446\n",
      "Epoch 65/100\n",
      "8260/8260 [==============================] - 0s 24us/sample - loss: 0.3509 - acc: 0.8462\n",
      "Epoch 66/100\n",
      "8260/8260 [==============================] - 0s 23us/sample - loss: 0.3492 - acc: 0.8452\n",
      "Epoch 67/100\n",
      "8260/8260 [==============================] - 0s 23us/sample - loss: 0.3498 - acc: 0.8452\n",
      "Epoch 68/100\n",
      "8260/8260 [==============================] - 0s 23us/sample - loss: 0.3466 - acc: 0.8456\n",
      "Epoch 69/100\n",
      "8260/8260 [==============================] - 0s 24us/sample - loss: 0.3514 - acc: 0.8443\n",
      "Epoch 70/100\n",
      "8260/8260 [==============================] - 0s 23us/sample - loss: 0.3468 - acc: 0.8464\n",
      "Epoch 71/100\n",
      "8260/8260 [==============================] - 0s 24us/sample - loss: 0.3463 - acc: 0.8473\n",
      "Epoch 72/100\n",
      "8260/8260 [==============================] - 0s 23us/sample - loss: 0.3442 - acc: 0.8482\n",
      "Epoch 73/100\n",
      "8260/8260 [==============================] - 0s 23us/sample - loss: 0.3448 - acc: 0.8498\n",
      "Epoch 74/100\n",
      "8260/8260 [==============================] - 0s 23us/sample - loss: 0.3443 - acc: 0.8476\n",
      "Epoch 75/100\n",
      "8260/8260 [==============================] - 0s 24us/sample - loss: 0.3451 - acc: 0.8496\n",
      "Epoch 76/100\n",
      "8260/8260 [==============================] - 0s 24us/sample - loss: 0.3434 - acc: 0.8494\n",
      "Epoch 77/100\n",
      "8260/8260 [==============================] - 0s 23us/sample - loss: 0.3429 - acc: 0.8501\n",
      "Epoch 78/100\n",
      "8260/8260 [==============================] - 0s 23us/sample - loss: 0.3447 - acc: 0.8453\n",
      "Epoch 79/100\n",
      "8260/8260 [==============================] - 0s 24us/sample - loss: 0.3442 - acc: 0.8469\n",
      "Epoch 80/100\n",
      "8260/8260 [==============================] - 0s 24us/sample - loss: 0.3407 - acc: 0.8495\n",
      "Epoch 81/100\n",
      "8260/8260 [==============================] - 0s 26us/sample - loss: 0.3441 - acc: 0.8471\n",
      "Epoch 82/100\n",
      "8260/8260 [==============================] - 0s 24us/sample - loss: 0.3427 - acc: 0.8481\n",
      "Epoch 83/100\n",
      "8260/8260 [==============================] - 0s 23us/sample - loss: 0.3401 - acc: 0.8523\n",
      "Epoch 84/100\n",
      "8260/8260 [==============================] - 0s 23us/sample - loss: 0.3436 - acc: 0.8493\n",
      "Epoch 85/100\n",
      "8260/8260 [==============================] - 0s 24us/sample - loss: 0.3401 - acc: 0.8504\n",
      "Epoch 86/100\n",
      "8260/8260 [==============================] - 0s 24us/sample - loss: 0.3409 - acc: 0.8490\n",
      "Epoch 87/100\n",
      "8260/8260 [==============================] - 0s 23us/sample - loss: 0.3385 - acc: 0.8516\n",
      "Epoch 88/100\n",
      "8260/8260 [==============================] - 0s 24us/sample - loss: 0.3397 - acc: 0.8489\n",
      "Epoch 89/100\n",
      "8260/8260 [==============================] - 0s 23us/sample - loss: 0.3400 - acc: 0.8479\n",
      "Epoch 90/100\n",
      "8260/8260 [==============================] - 0s 24us/sample - loss: 0.3385 - acc: 0.8500\n",
      "Epoch 91/100\n",
      "8260/8260 [==============================] - 0s 23us/sample - loss: 0.3364 - acc: 0.8523\n",
      "Epoch 92/100\n",
      "8260/8260 [==============================] - 0s 25us/sample - loss: 0.3397 - acc: 0.8519\n",
      "Epoch 93/100\n",
      "8260/8260 [==============================] - 0s 23us/sample - loss: 0.3374 - acc: 0.8531\n",
      "Epoch 94/100\n",
      "8260/8260 [==============================] - 0s 23us/sample - loss: 0.3364 - acc: 0.8542\n",
      "Epoch 95/100\n",
      "8260/8260 [==============================] - 0s 23us/sample - loss: 0.3353 - acc: 0.8550\n",
      "Epoch 96/100\n",
      "8260/8260 [==============================] - 0s 23us/sample - loss: 0.3380 - acc: 0.8524\n",
      "Epoch 97/100\n",
      "8260/8260 [==============================] - 0s 24us/sample - loss: 0.3341 - acc: 0.8564\n",
      "Epoch 98/100\n",
      "8260/8260 [==============================] - 0s 23us/sample - loss: 0.3360 - acc: 0.8573\n",
      "Epoch 99/100\n",
      "8260/8260 [==============================] - 0s 23us/sample - loss: 0.3376 - acc: 0.8501\n",
      "Epoch 100/100\n",
      "8260/8260 [==============================] - 0s 23us/sample - loss: 0.3323 - acc: 0.8545\n",
      "2066/2066 [==============================] - 0s 26us/sample - loss: 0.4316 - acc: 0.8103\n",
      "[0.4315780191199939, 0.81026137]\n",
      "Classification Report: \n",
      "               precision    recall  f1-score   support\n",
      "\n",
      "           0       0.82      0.79      0.81      1033\n",
      "           1       0.80      0.83      0.81      1033\n",
      "\n",
      "    accuracy                           0.81      2066\n",
      "   macro avg       0.81      0.81      0.81      2066\n",
      "weighted avg       0.81      0.81      0.81      2066\n",
      "\n"
     ]
    }
   ],
   "source": [
    "y_preds = ANN(X_train, y_train, X_test, y_test, 'binary_crossentropy', -1)"
   ]
  },
  {
   "cell_type": "markdown",
   "metadata": {},
   "source": [
    "# Method 3:SMOTE"
   ]
  },
  {
   "cell_type": "code",
   "execution_count": 49,
   "metadata": {},
   "outputs": [],
   "source": [
    "X = df2.drop('Churn',axis='columns')\n",
    "y = df2['Churn']"
   ]
  },
  {
   "cell_type": "code",
   "execution_count": 62,
   "metadata": {},
   "outputs": [
    {
     "data": {
      "text/plain": [
       "0    5163\n",
       "1    5163\n",
       "Name: Churn, dtype: int64"
      ]
     },
     "execution_count": 62,
     "metadata": {},
     "output_type": "execute_result"
    }
   ],
   "source": [
    "import imblearn\n",
    "\n",
    "from imblearn.over_sampling import SMOTE\n",
    "\n",
    "# Initialize SMOTE object\n",
    "smote = SMOTE(sampling_strategy='minority')\n",
    "\n",
    "# Fit and resample the data\n",
    "X_sm, y_sm = smote.fit_resample(X, y)\n",
    "\n",
    "# Check the value counts of the resampled data\n",
    "y_sm.value_counts()\n"
   ]
  },
  {
   "cell_type": "code",
   "execution_count": 63,
   "metadata": {},
   "outputs": [],
   "source": [
    "from sklearn.model_selection import train_test_split\n",
    "X_train, X_test, y_train, y_test = train_test_split(X_sm, y_sm, test_size=0.2, random_state=15, stratify=y_sm)"
   ]
  },
  {
   "cell_type": "code",
   "execution_count": 65,
   "metadata": {},
   "outputs": [
    {
     "data": {
      "text/plain": [
       "1    4130\n",
       "0    4130\n",
       "Name: Churn, dtype: int64"
      ]
     },
     "execution_count": 65,
     "metadata": {},
     "output_type": "execute_result"
    }
   ],
   "source": [
    "# Number of classes in training Data\n",
    "y_train.value_counts() #checking balance"
   ]
  },
  {
   "cell_type": "markdown",
   "metadata": {},
   "source": [
    "#How SMOTE Works:\n",
    "\n",
    "SMOTE tackles this problem by creating synthetic data points for the minority class. Here's the basic idea:\n",
    "\n",
    "Identify the minority class: The algorithm first identifies the class with the fewest data points.\n",
    "Select a data point from the minority class: SMOTE randomly selects a data point from the minority class.\n",
    "Find its nearest neighbors: The algorithm identifies the k-nearest neighbors (similar data points) of the chosen data point within the minority class.\n",
    "Synthesize new data points: SMOTE randomly selects one of the k-nearest neighbors and creates a new data point along the line segment between the original data point and its neighbor. This new data point represents a synthetic example similar to the minority class."
   ]
  },
  {
   "cell_type": "code",
   "execution_count": 69,
   "metadata": {},
   "outputs": [
    {
     "name": "stdout",
     "output_type": "stream",
     "text": [
      "Epoch 1/100\n",
      "8260/8260 [==============================] - 0s 35us/sample - loss: 0.5330 - acc: 0.7364\n",
      "Epoch 2/100\n",
      "8260/8260 [==============================] - 0s 24us/sample - loss: 0.4647 - acc: 0.7812\n",
      "Epoch 3/100\n",
      "8260/8260 [==============================] - 0s 23us/sample - loss: 0.4556 - acc: 0.7863\n",
      "Epoch 4/100\n",
      "8260/8260 [==============================] - 0s 23us/sample - loss: 0.4490 - acc: 0.7897\n",
      "Epoch 5/100\n",
      "8260/8260 [==============================] - 0s 23us/sample - loss: 0.4430 - acc: 0.7943\n",
      "Epoch 6/100\n",
      "8260/8260 [==============================] - 0s 23us/sample - loss: 0.4391 - acc: 0.8007\n",
      "Epoch 7/100\n",
      "8260/8260 [==============================] - 0s 23us/sample - loss: 0.4354 - acc: 0.8011\n",
      "Epoch 8/100\n",
      "8260/8260 [==============================] - 0s 23us/sample - loss: 0.4302 - acc: 0.8041\n",
      "Epoch 9/100\n",
      "8260/8260 [==============================] - 0s 23us/sample - loss: 0.4281 - acc: 0.8080\n",
      "Epoch 10/100\n",
      "8260/8260 [==============================] - 0s 23us/sample - loss: 0.4246 - acc: 0.8070\n",
      "Epoch 11/100\n",
      "8260/8260 [==============================] - 0s 24us/sample - loss: 0.4207 - acc: 0.8076\n",
      "Epoch 12/100\n",
      "8260/8260 [==============================] - 0s 23us/sample - loss: 0.4185 - acc: 0.8081\n",
      "Epoch 13/100\n",
      "8260/8260 [==============================] - 0s 23us/sample - loss: 0.4157 - acc: 0.8122\n",
      "Epoch 14/100\n",
      "8260/8260 [==============================] - 0s 22us/sample - loss: 0.4134 - acc: 0.8137\n",
      "Epoch 15/100\n",
      "8260/8260 [==============================] - 0s 23us/sample - loss: 0.4103 - acc: 0.8150\n",
      "Epoch 16/100\n",
      "8260/8260 [==============================] - 0s 23us/sample - loss: 0.4083 - acc: 0.8163\n",
      "Epoch 17/100\n",
      "8260/8260 [==============================] - 0s 23us/sample - loss: 0.4059 - acc: 0.8180\n",
      "Epoch 18/100\n",
      "8260/8260 [==============================] - 0s 23us/sample - loss: 0.4055 - acc: 0.8168\n",
      "Epoch 19/100\n",
      "8260/8260 [==============================] - 0s 22us/sample - loss: 0.4019 - acc: 0.8200\n",
      "Epoch 20/100\n",
      "8260/8260 [==============================] - 0s 23us/sample - loss: 0.4004 - acc: 0.8203\n",
      "Epoch 21/100\n",
      "8260/8260 [==============================] - 0s 23us/sample - loss: 0.3976 - acc: 0.8223\n",
      "Epoch 22/100\n",
      "8260/8260 [==============================] - 0s 23us/sample - loss: 0.3964 - acc: 0.8230\n",
      "Epoch 23/100\n",
      "8260/8260 [==============================] - 0s 23us/sample - loss: 0.3952 - acc: 0.8246\n",
      "Epoch 24/100\n",
      "8260/8260 [==============================] - 0s 23us/sample - loss: 0.3923 - acc: 0.8260\n",
      "Epoch 25/100\n",
      "8260/8260 [==============================] - 0s 23us/sample - loss: 0.3925 - acc: 0.8270\n",
      "Epoch 26/100\n",
      "8260/8260 [==============================] - 0s 23us/sample - loss: 0.3893 - acc: 0.8272\n",
      "Epoch 27/100\n",
      "8260/8260 [==============================] - 0s 22us/sample - loss: 0.3883 - acc: 0.8314\n",
      "Epoch 28/100\n",
      "8260/8260 [==============================] - 0s 23us/sample - loss: 0.3872 - acc: 0.8291\n",
      "Epoch 29/100\n",
      "8260/8260 [==============================] - 0s 23us/sample - loss: 0.3833 - acc: 0.8326\n",
      "Epoch 30/100\n",
      "8260/8260 [==============================] - 0s 23us/sample - loss: 0.3832 - acc: 0.8304\n",
      "Epoch 31/100\n",
      "8260/8260 [==============================] - 0s 22us/sample - loss: 0.3817 - acc: 0.8315\n",
      "Epoch 32/100\n",
      "8260/8260 [==============================] - 0s 24us/sample - loss: 0.3797 - acc: 0.8331\n",
      "Epoch 33/100\n",
      "8260/8260 [==============================] - 0s 23us/sample - loss: 0.3799 - acc: 0.8358\n",
      "Epoch 34/100\n",
      "8260/8260 [==============================] - 0s 24us/sample - loss: 0.3778 - acc: 0.8334\n",
      "Epoch 35/100\n",
      "8260/8260 [==============================] - 0s 22us/sample - loss: 0.3768 - acc: 0.8373\n",
      "Epoch 36/100\n",
      "8260/8260 [==============================] - 0s 23us/sample - loss: 0.3747 - acc: 0.8374\n",
      "Epoch 37/100\n",
      "8260/8260 [==============================] - 0s 23us/sample - loss: 0.3741 - acc: 0.8364\n",
      "Epoch 38/100\n",
      "8260/8260 [==============================] - 0s 23us/sample - loss: 0.3729 - acc: 0.8357\n",
      "Epoch 39/100\n",
      "8260/8260 [==============================] - 0s 23us/sample - loss: 0.3717 - acc: 0.8377\n",
      "Epoch 40/100\n",
      "8260/8260 [==============================] - 0s 23us/sample - loss: 0.3695 - acc: 0.8383\n",
      "Epoch 41/100\n",
      "8260/8260 [==============================] - 0s 23us/sample - loss: 0.3698 - acc: 0.8367\n",
      "Epoch 42/100\n",
      "8260/8260 [==============================] - 0s 23us/sample - loss: 0.3688 - acc: 0.8362\n",
      "Epoch 43/100\n",
      "8260/8260 [==============================] - 0s 23us/sample - loss: 0.3667 - acc: 0.8398\n",
      "Epoch 44/100\n",
      "8260/8260 [==============================] - 0s 23us/sample - loss: 0.3667 - acc: 0.8418\n",
      "Epoch 45/100\n",
      "8260/8260 [==============================] - 0s 23us/sample - loss: 0.3637 - acc: 0.8419\n",
      "Epoch 46/100\n",
      "8260/8260 [==============================] - 0s 23us/sample - loss: 0.3648 - acc: 0.8416\n",
      "Epoch 47/100\n",
      "8260/8260 [==============================] - 0s 23us/sample - loss: 0.3639 - acc: 0.8395\n",
      "Epoch 48/100\n",
      "8260/8260 [==============================] - 0s 23us/sample - loss: 0.3605 - acc: 0.8433\n",
      "Epoch 49/100\n",
      "8260/8260 [==============================] - 0s 23us/sample - loss: 0.3636 - acc: 0.8407\n",
      "Epoch 50/100\n",
      "8260/8260 [==============================] - 0s 23us/sample - loss: 0.3591 - acc: 0.8443\n",
      "Epoch 51/100\n",
      "8260/8260 [==============================] - 0s 24us/sample - loss: 0.3582 - acc: 0.8439\n",
      "Epoch 52/100\n",
      "8260/8260 [==============================] - 0s 23us/sample - loss: 0.3603 - acc: 0.8423\n",
      "Epoch 53/100\n",
      "8260/8260 [==============================] - 0s 23us/sample - loss: 0.3564 - acc: 0.8444\n",
      "Epoch 54/100\n",
      "8260/8260 [==============================] - 0s 23us/sample - loss: 0.3562 - acc: 0.8460\n",
      "Epoch 55/100\n",
      "8260/8260 [==============================] - 0s 23us/sample - loss: 0.3535 - acc: 0.8482\n",
      "Epoch 56/100\n",
      "8260/8260 [==============================] - 0s 23us/sample - loss: 0.3536 - acc: 0.8464\n",
      "Epoch 57/100\n",
      "8260/8260 [==============================] - 0s 22us/sample - loss: 0.3530 - acc: 0.8475\n",
      "Epoch 58/100\n",
      "8260/8260 [==============================] - 0s 23us/sample - loss: 0.3505 - acc: 0.8478\n",
      "Epoch 59/100\n",
      "8260/8260 [==============================] - 0s 23us/sample - loss: 0.3513 - acc: 0.8464\n",
      "Epoch 60/100\n",
      "8260/8260 [==============================] - 0s 23us/sample - loss: 0.3505 - acc: 0.8442\n",
      "Epoch 61/100\n",
      "8260/8260 [==============================] - 0s 23us/sample - loss: 0.3487 - acc: 0.8458\n",
      "Epoch 62/100\n",
      "8260/8260 [==============================] - 0s 23us/sample - loss: 0.3485 - acc: 0.8478\n",
      "Epoch 63/100\n",
      "8260/8260 [==============================] - 0s 23us/sample - loss: 0.3471 - acc: 0.8492\n",
      "Epoch 64/100\n",
      "8260/8260 [==============================] - 0s 22us/sample - loss: 0.3457 - acc: 0.8510\n",
      "Epoch 65/100\n",
      "8260/8260 [==============================] - 0s 24us/sample - loss: 0.3467 - acc: 0.8465\n",
      "Epoch 66/100\n",
      "8260/8260 [==============================] - 0s 23us/sample - loss: 0.3439 - acc: 0.8513\n",
      "Epoch 67/100\n",
      "8260/8260 [==============================] - 0s 23us/sample - loss: 0.3426 - acc: 0.8505\n",
      "Epoch 68/100\n",
      "8260/8260 [==============================] - 0s 29us/sample - loss: 0.3419 - acc: 0.8487\n",
      "Epoch 69/100\n",
      "8260/8260 [==============================] - 0s 23us/sample - loss: 0.3428 - acc: 0.8515\n",
      "Epoch 70/100\n",
      "8260/8260 [==============================] - 0s 23us/sample - loss: 0.3426 - acc: 0.8517\n",
      "Epoch 71/100\n",
      "8260/8260 [==============================] - 0s 24us/sample - loss: 0.3393 - acc: 0.8522\n",
      "Epoch 72/100\n",
      "8260/8260 [==============================] - 0s 24us/sample - loss: 0.3400 - acc: 0.8547\n",
      "Epoch 73/100\n",
      "8260/8260 [==============================] - 0s 23us/sample - loss: 0.3385 - acc: 0.8525\n",
      "Epoch 74/100\n",
      "8260/8260 [==============================] - 0s 22us/sample - loss: 0.3378 - acc: 0.8516\n",
      "Epoch 75/100\n",
      "8260/8260 [==============================] - 0s 23us/sample - loss: 0.3365 - acc: 0.8525\n",
      "Epoch 76/100\n",
      "8260/8260 [==============================] - 0s 22us/sample - loss: 0.3366 - acc: 0.8556\n",
      "Epoch 77/100\n",
      "8260/8260 [==============================] - 0s 23us/sample - loss: 0.3361 - acc: 0.8540\n",
      "Epoch 78/100\n",
      "8260/8260 [==============================] - 0s 23us/sample - loss: 0.3335 - acc: 0.8553\n",
      "Epoch 79/100\n",
      "8260/8260 [==============================] - 0s 23us/sample - loss: 0.3355 - acc: 0.8529\n",
      "Epoch 80/100\n",
      "8260/8260 [==============================] - 0s 23us/sample - loss: 0.3344 - acc: 0.8552\n",
      "Epoch 81/100\n",
      "8260/8260 [==============================] - 0s 22us/sample - loss: 0.3364 - acc: 0.8564\n",
      "Epoch 82/100\n",
      "8260/8260 [==============================] - 0s 23us/sample - loss: 0.3329 - acc: 0.8569\n",
      "Epoch 83/100\n",
      "8260/8260 [==============================] - 0s 24us/sample - loss: 0.3309 - acc: 0.8556\n",
      "Epoch 84/100\n",
      "8260/8260 [==============================] - 0s 23us/sample - loss: 0.3323 - acc: 0.8575\n",
      "Epoch 85/100\n",
      "8260/8260 [==============================] - 0s 24us/sample - loss: 0.3322 - acc: 0.8551\n",
      "Epoch 86/100\n",
      "8260/8260 [==============================] - 0s 23us/sample - loss: 0.3311 - acc: 0.8565\n",
      "Epoch 87/100\n",
      "8260/8260 [==============================] - 0s 23us/sample - loss: 0.3286 - acc: 0.8614\n",
      "Epoch 88/100\n",
      "8260/8260 [==============================] - 0s 23us/sample - loss: 0.3280 - acc: 0.8586\n",
      "Epoch 89/100\n",
      "8260/8260 [==============================] - 0s 24us/sample - loss: 0.3266 - acc: 0.8616\n",
      "Epoch 90/100\n",
      "8260/8260 [==============================] - 0s 23us/sample - loss: 0.3288 - acc: 0.8617\n",
      "Epoch 91/100\n",
      "8260/8260 [==============================] - 0s 23us/sample - loss: 0.3267 - acc: 0.8604\n",
      "Epoch 92/100\n",
      "8260/8260 [==============================] - 0s 23us/sample - loss: 0.3278 - acc: 0.8582\n",
      "Epoch 93/100\n",
      "8260/8260 [==============================] - 0s 23us/sample - loss: 0.3264 - acc: 0.8592\n",
      "Epoch 94/100\n",
      "8260/8260 [==============================] - 0s 24us/sample - loss: 0.3254 - acc: 0.8594\n",
      "Epoch 95/100\n",
      "8260/8260 [==============================] - 0s 23us/sample - loss: 0.3265 - acc: 0.8593\n",
      "Epoch 96/100\n",
      "8260/8260 [==============================] - 0s 23us/sample - loss: 0.3238 - acc: 0.8598\n",
      "Epoch 97/100\n",
      "8260/8260 [==============================] - 0s 23us/sample - loss: 0.3239 - acc: 0.8607\n",
      "Epoch 98/100\n",
      "8260/8260 [==============================] - 0s 23us/sample - loss: 0.3234 - acc: 0.8631\n",
      "Epoch 99/100\n",
      "8260/8260 [==============================] - 0s 22us/sample - loss: 0.3214 - acc: 0.8623\n",
      "Epoch 100/100\n",
      "8260/8260 [==============================] - 0s 22us/sample - loss: 0.3227 - acc: 0.8643\n",
      "2066/2066 [==============================] - 0s 23us/sample - loss: 0.4413 - acc: 0.8112\n",
      "[0.4412768708193983, 0.8112294]\n",
      "Classification Report: \n",
      "               precision    recall  f1-score   support\n",
      "\n",
      "           0       0.84      0.77      0.80      1033\n",
      "           1       0.79      0.85      0.82      1033\n",
      "\n",
      "    accuracy                           0.81      2066\n",
      "   macro avg       0.81      0.81      0.81      2066\n",
      "weighted avg       0.81      0.81      0.81      2066\n",
      "\n"
     ]
    }
   ],
   "source": [
    "y_preds = ANN(X_train, y_train, X_test, y_test, 'binary_crossentropy', -1)"
   ]
  },
  {
   "cell_type": "markdown",
   "metadata": {},
   "source": [
    "# Method4: Use of Ensemble with undersampling"
   ]
  },
  {
   "cell_type": "code",
   "execution_count": 72,
   "metadata": {},
   "outputs": [
    {
     "data": {
      "text/plain": [
       "0    5163\n",
       "1    1869\n",
       "Name: Churn, dtype: int64"
      ]
     },
     "execution_count": 72,
     "metadata": {},
     "output_type": "execute_result"
    }
   ],
   "source": [
    "df2.Churn.value_counts()"
   ]
  },
  {
   "cell_type": "code",
   "execution_count": 74,
   "metadata": {},
   "outputs": [],
   "source": [
    "# Regain Original features and labels\n",
    "X = df2.drop('Churn',axis='columns')\n",
    "y = df2['Churn']"
   ]
  },
  {
   "cell_type": "code",
   "execution_count": 77,
   "metadata": {},
   "outputs": [],
   "source": [
    "from sklearn.model_selection import train_test_split\n",
    "X_train, X_test, y_train, y_test = train_test_split(X, y, test_size=0.2, random_state=15, stratify=y)"
   ]
  },
  {
   "cell_type": "code",
   "execution_count": 78,
   "metadata": {},
   "outputs": [
    {
     "data": {
      "text/plain": [
       "0    4130\n",
       "1    1495\n",
       "Name: Churn, dtype: int64"
      ]
     },
     "execution_count": 78,
     "metadata": {},
     "output_type": "execute_result"
    }
   ],
   "source": [
    "y_train.value_counts()"
   ]
  },
  {
   "cell_type": "code",
   "execution_count": 89,
   "metadata": {},
   "outputs": [],
   "source": [
    "df3=X_train.copy()\n",
    "df3['Churn']=y_train\n",
    "\n",
    "df3_class_0=df3[df3['Churn']== 0]\n",
    "df3_class_1=df3[df3['Churn']== 1]  "
   ]
  },
  {
   "cell_type": "code",
   "execution_count": 90,
   "metadata": {},
   "outputs": [
    {
     "data": {
      "text/plain": [
       "((4130, 27), (1495, 27))"
      ]
     },
     "execution_count": 90,
     "metadata": {},
     "output_type": "execute_result"
    }
   ],
   "source": [
    "df3_class_0.shape,df3_class_1.shape"
   ]
  },
  {
   "cell_type": "code",
   "execution_count": 91,
   "metadata": {},
   "outputs": [
    {
     "data": {
      "text/plain": [
       "(1495, 27)"
      ]
     },
     "execution_count": 91,
     "metadata": {},
     "output_type": "execute_result"
    }
   ],
   "source": [
    "df3_class_0[:1495].shape"
   ]
  },
  {
   "cell_type": "code",
   "execution_count": 92,
   "metadata": {},
   "outputs": [
    {
     "data": {
      "text/plain": [
       "(2990, 27)"
      ]
     },
     "execution_count": 92,
     "metadata": {},
     "output_type": "execute_result"
    }
   ],
   "source": [
    "df_train=pd.concat([df3_class_0[:1495],df3_class_1],axis=0)\n",
    "df_train.shape"
   ]
  },
  {
   "cell_type": "code",
   "execution_count": 96,
   "metadata": {},
   "outputs": [],
   "source": [
    "def get_train_batch(df_majority,df_minority,start,end):\n",
    "    df_train=pd.concat([df_majority[start:end],df_minority],axis=0)\n",
    "    X_train=df_train.drop('Churn',axis='columns')\n",
    "    y_train=df_train.Churn\n",
    "    return X_train,y_train"
   ]
  },
  {
   "cell_type": "code",
   "execution_count": 98,
   "metadata": {},
   "outputs": [
    {
     "data": {
      "text/plain": [
       "(2990, 26)"
      ]
     },
     "execution_count": 98,
     "metadata": {},
     "output_type": "execute_result"
    }
   ],
   "source": [
    "X_train,y_train= get_train_batch(df3_class_0,df3_class_1,0,1495)\n",
    "X_train.shape  #combines df3_class_0 and df3_class_1, but each having 1495 (starting from 0 to 1495 for X_train) "
   ]
  },
  {
   "cell_type": "code",
   "execution_count": 99,
   "metadata": {},
   "outputs": [
    {
     "name": "stdout",
     "output_type": "stream",
     "text": [
      "Epoch 1/100\n",
      "2990/2990 [==============================] - 0s 67us/sample - loss: 0.5984 - acc: 0.7114\n",
      "Epoch 2/100\n",
      "2990/2990 [==============================] - 0s 23us/sample - loss: 0.5177 - acc: 0.7538\n",
      "Epoch 3/100\n",
      "2990/2990 [==============================] - 0s 22us/sample - loss: 0.4969 - acc: 0.7659\n",
      "Epoch 4/100\n",
      "2990/2990 [==============================] - 0s 23us/sample - loss: 0.4876 - acc: 0.7712\n",
      "Epoch 5/100\n",
      "2990/2990 [==============================] - 0s 22us/sample - loss: 0.4807 - acc: 0.7716\n",
      "Epoch 6/100\n",
      "2990/2990 [==============================] - 0s 22us/sample - loss: 0.4783 - acc: 0.7686\n",
      "Epoch 7/100\n",
      "2990/2990 [==============================] - 0s 22us/sample - loss: 0.4752 - acc: 0.7746\n",
      "Epoch 8/100\n",
      "2990/2990 [==============================] - 0s 22us/sample - loss: 0.4727 - acc: 0.7712\n",
      "Epoch 9/100\n",
      "2990/2990 [==============================] - 0s 23us/sample - loss: 0.4713 - acc: 0.7779\n",
      "Epoch 10/100\n",
      "2990/2990 [==============================] - 0s 22us/sample - loss: 0.4679 - acc: 0.7799\n",
      "Epoch 11/100\n",
      "2990/2990 [==============================] - 0s 22us/sample - loss: 0.4665 - acc: 0.7783\n",
      "Epoch 12/100\n",
      "2990/2990 [==============================] - 0s 22us/sample - loss: 0.4663 - acc: 0.7806\n",
      "Epoch 13/100\n",
      "2990/2990 [==============================] - 0s 23us/sample - loss: 0.4655 - acc: 0.7816\n",
      "Epoch 14/100\n",
      "2990/2990 [==============================] - 0s 23us/sample - loss: 0.4624 - acc: 0.7813\n",
      "Epoch 15/100\n",
      "2990/2990 [==============================] - 0s 23us/sample - loss: 0.4604 - acc: 0.7819\n",
      "Epoch 16/100\n",
      "2990/2990 [==============================] - 0s 22us/sample - loss: 0.4609 - acc: 0.7806\n",
      "Epoch 17/100\n",
      "2990/2990 [==============================] - 0s 22us/sample - loss: 0.4591 - acc: 0.7816\n",
      "Epoch 18/100\n",
      "2990/2990 [==============================] - 0s 22us/sample - loss: 0.4573 - acc: 0.7900\n",
      "Epoch 19/100\n",
      "2990/2990 [==============================] - 0s 23us/sample - loss: 0.4567 - acc: 0.7836\n",
      "Epoch 20/100\n",
      "2990/2990 [==============================] - 0s 23us/sample - loss: 0.4569 - acc: 0.7846\n",
      "Epoch 21/100\n",
      "2990/2990 [==============================] - 0s 23us/sample - loss: 0.4530 - acc: 0.7873\n",
      "Epoch 22/100\n",
      "2990/2990 [==============================] - 0s 23us/sample - loss: 0.4539 - acc: 0.7860\n",
      "Epoch 23/100\n",
      "2990/2990 [==============================] - 0s 22us/sample - loss: 0.4532 - acc: 0.7860\n",
      "Epoch 24/100\n",
      "2990/2990 [==============================] - 0s 22us/sample - loss: 0.4507 - acc: 0.7860\n",
      "Epoch 25/100\n",
      "2990/2990 [==============================] - 0s 23us/sample - loss: 0.4494 - acc: 0.7860\n",
      "Epoch 26/100\n",
      "2990/2990 [==============================] - 0s 22us/sample - loss: 0.4490 - acc: 0.7920\n",
      "Epoch 27/100\n",
      "2990/2990 [==============================] - 0s 22us/sample - loss: 0.4476 - acc: 0.7870\n",
      "Epoch 28/100\n",
      "2990/2990 [==============================] - 0s 22us/sample - loss: 0.4487 - acc: 0.7876\n",
      "Epoch 29/100\n",
      "2990/2990 [==============================] - 0s 22us/sample - loss: 0.4492 - acc: 0.7860\n",
      "Epoch 30/100\n",
      "2990/2990 [==============================] - 0s 22us/sample - loss: 0.4441 - acc: 0.7943\n",
      "Epoch 31/100\n",
      "2990/2990 [==============================] - 0s 22us/sample - loss: 0.4442 - acc: 0.7930\n",
      "Epoch 32/100\n",
      "2990/2990 [==============================] - 0s 23us/sample - loss: 0.4450 - acc: 0.7930\n",
      "Epoch 33/100\n",
      "2990/2990 [==============================] - 0s 23us/sample - loss: 0.4435 - acc: 0.7923\n",
      "Epoch 34/100\n",
      "2990/2990 [==============================] - 0s 23us/sample - loss: 0.4424 - acc: 0.7946\n",
      "Epoch 35/100\n",
      "2990/2990 [==============================] - 0s 22us/sample - loss: 0.4423 - acc: 0.7920\n",
      "Epoch 36/100\n",
      "2990/2990 [==============================] - 0s 22us/sample - loss: 0.4394 - acc: 0.7890\n",
      "Epoch 37/100\n",
      "2990/2990 [==============================] - 0s 22us/sample - loss: 0.4397 - acc: 0.7923\n",
      "Epoch 38/100\n",
      "2990/2990 [==============================] - 0s 22us/sample - loss: 0.4404 - acc: 0.7900\n",
      "Epoch 39/100\n",
      "2990/2990 [==============================] - 0s 23us/sample - loss: 0.4383 - acc: 0.7933\n",
      "Epoch 40/100\n",
      "2990/2990 [==============================] - 0s 22us/sample - loss: 0.4383 - acc: 0.7950\n",
      "Epoch 41/100\n",
      "2990/2990 [==============================] - 0s 23us/sample - loss: 0.4356 - acc: 0.7973\n",
      "Epoch 42/100\n",
      "2990/2990 [==============================] - 0s 22us/sample - loss: 0.4357 - acc: 0.7990\n",
      "Epoch 43/100\n",
      "2990/2990 [==============================] - 0s 24us/sample - loss: 0.4345 - acc: 0.7930\n",
      "Epoch 44/100\n",
      "2990/2990 [==============================] - 0s 27us/sample - loss: 0.4336 - acc: 0.7960\n",
      "Epoch 45/100\n",
      "2990/2990 [==============================] - 0s 24us/sample - loss: 0.4314 - acc: 0.7980\n",
      "Epoch 46/100\n",
      "2990/2990 [==============================] - 0s 23us/sample - loss: 0.4327 - acc: 0.7997\n",
      "Epoch 47/100\n",
      "2990/2990 [==============================] - 0s 26us/sample - loss: 0.4303 - acc: 0.7987\n",
      "Epoch 48/100\n",
      "2990/2990 [==============================] - 0s 23us/sample - loss: 0.4293 - acc: 0.7993\n",
      "Epoch 49/100\n",
      "2990/2990 [==============================] - 0s 23us/sample - loss: 0.4297 - acc: 0.8030\n",
      "Epoch 50/100\n",
      "2990/2990 [==============================] - 0s 24us/sample - loss: 0.4279 - acc: 0.7997\n",
      "Epoch 51/100\n",
      "2990/2990 [==============================] - 0s 23us/sample - loss: 0.4271 - acc: 0.8027\n",
      "Epoch 52/100\n",
      "2990/2990 [==============================] - 0s 23us/sample - loss: 0.4276 - acc: 0.8037\n",
      "Epoch 53/100\n",
      "2990/2990 [==============================] - 0s 23us/sample - loss: 0.4249 - acc: 0.8013\n",
      "Epoch 54/100\n",
      "2990/2990 [==============================] - 0s 23us/sample - loss: 0.4269 - acc: 0.8030\n",
      "Epoch 55/100\n",
      "2990/2990 [==============================] - 0s 23us/sample - loss: 0.4267 - acc: 0.7987\n",
      "Epoch 56/100\n",
      "2990/2990 [==============================] - 0s 23us/sample - loss: 0.4241 - acc: 0.8050\n",
      "Epoch 57/100\n",
      "2990/2990 [==============================] - 0s 24us/sample - loss: 0.4223 - acc: 0.8060\n",
      "Epoch 58/100\n",
      "2990/2990 [==============================] - 0s 28us/sample - loss: 0.4211 - acc: 0.8037\n",
      "Epoch 59/100\n",
      "2990/2990 [==============================] - 0s 25us/sample - loss: 0.4199 - acc: 0.8077\n",
      "Epoch 60/100\n",
      "2990/2990 [==============================] - 0s 25us/sample - loss: 0.4221 - acc: 0.8027\n",
      "Epoch 61/100\n",
      "2990/2990 [==============================] - 0s 26us/sample - loss: 0.4210 - acc: 0.8033\n",
      "Epoch 62/100\n",
      "2990/2990 [==============================] - 0s 24us/sample - loss: 0.4195 - acc: 0.8077\n",
      "Epoch 63/100\n",
      "2990/2990 [==============================] - 0s 24us/sample - loss: 0.4187 - acc: 0.8060\n",
      "Epoch 64/100\n",
      "2990/2990 [==============================] - 0s 27us/sample - loss: 0.4175 - acc: 0.8033\n",
      "Epoch 65/100\n",
      "2990/2990 [==============================] - 0s 26us/sample - loss: 0.4179 - acc: 0.8094\n",
      "Epoch 66/100\n",
      "2990/2990 [==============================] - 0s 24us/sample - loss: 0.4165 - acc: 0.8097\n",
      "Epoch 67/100\n",
      "2990/2990 [==============================] - 0s 23us/sample - loss: 0.4155 - acc: 0.8070\n",
      "Epoch 68/100\n",
      "2990/2990 [==============================] - 0s 23us/sample - loss: 0.4134 - acc: 0.8074\n",
      "Epoch 69/100\n",
      "2990/2990 [==============================] - 0s 22us/sample - loss: 0.4135 - acc: 0.8114\n",
      "Epoch 70/100\n",
      "2990/2990 [==============================] - 0s 24us/sample - loss: 0.4118 - acc: 0.8114\n",
      "Epoch 71/100\n",
      "2990/2990 [==============================] - 0s 24us/sample - loss: 0.4124 - acc: 0.8070\n",
      "Epoch 72/100\n",
      "2990/2990 [==============================] - 0s 23us/sample - loss: 0.4130 - acc: 0.8120\n",
      "Epoch 73/100\n",
      "2990/2990 [==============================] - 0s 23us/sample - loss: 0.4094 - acc: 0.8147\n",
      "Epoch 74/100\n",
      "2990/2990 [==============================] - 0s 23us/sample - loss: 0.4101 - acc: 0.8094\n",
      "Epoch 75/100\n",
      "2990/2990 [==============================] - 0s 23us/sample - loss: 0.4100 - acc: 0.8110\n",
      "Epoch 76/100\n",
      "2990/2990 [==============================] - 0s 22us/sample - loss: 0.4093 - acc: 0.8147\n",
      "Epoch 77/100\n",
      "2990/2990 [==============================] - 0s 29us/sample - loss: 0.4091 - acc: 0.8144\n",
      "Epoch 78/100\n",
      "2990/2990 [==============================] - 0s 24us/sample - loss: 0.4079 - acc: 0.8114\n",
      "Epoch 79/100\n",
      "2990/2990 [==============================] - 0s 23us/sample - loss: 0.4067 - acc: 0.8114\n",
      "Epoch 80/100\n",
      "2990/2990 [==============================] - 0s 23us/sample - loss: 0.4058 - acc: 0.8094\n",
      "Epoch 81/100\n",
      "2990/2990 [==============================] - 0s 24us/sample - loss: 0.4070 - acc: 0.8100\n",
      "Epoch 82/100\n",
      "2990/2990 [==============================] - 0s 23us/sample - loss: 0.4053 - acc: 0.8151\n",
      "Epoch 83/100\n",
      "2990/2990 [==============================] - 0s 22us/sample - loss: 0.4064 - acc: 0.8187\n",
      "Epoch 84/100\n",
      "2990/2990 [==============================] - 0s 23us/sample - loss: 0.4043 - acc: 0.8177\n",
      "Epoch 85/100\n",
      "2990/2990 [==============================] - 0s 22us/sample - loss: 0.4022 - acc: 0.8177\n",
      "Epoch 86/100\n",
      "2990/2990 [==============================] - 0s 23us/sample - loss: 0.4026 - acc: 0.8124\n",
      "Epoch 87/100\n",
      "2990/2990 [==============================] - 0s 24us/sample - loss: 0.4028 - acc: 0.8147\n",
      "Epoch 88/100\n",
      "2990/2990 [==============================] - 0s 23us/sample - loss: 0.4001 - acc: 0.8167\n",
      "Epoch 89/100\n",
      "2990/2990 [==============================] - 0s 23us/sample - loss: 0.4022 - acc: 0.8157\n",
      "Epoch 90/100\n",
      "2990/2990 [==============================] - 0s 22us/sample - loss: 0.3988 - acc: 0.8207\n",
      "Epoch 91/100\n",
      "2990/2990 [==============================] - 0s 22us/sample - loss: 0.3982 - acc: 0.8194\n",
      "Epoch 92/100\n",
      "2990/2990 [==============================] - 0s 22us/sample - loss: 0.3980 - acc: 0.8191\n",
      "Epoch 93/100\n",
      "2990/2990 [==============================] - 0s 23us/sample - loss: 0.3989 - acc: 0.8194\n",
      "Epoch 94/100\n",
      "2990/2990 [==============================] - 0s 24us/sample - loss: 0.4019 - acc: 0.8181\n",
      "Epoch 95/100\n",
      "2990/2990 [==============================] - 0s 23us/sample - loss: 0.3980 - acc: 0.8194\n",
      "Epoch 96/100\n",
      "2990/2990 [==============================] - 0s 23us/sample - loss: 0.3948 - acc: 0.8221\n",
      "Epoch 97/100\n",
      "2990/2990 [==============================] - 0s 22us/sample - loss: 0.3954 - acc: 0.8157\n",
      "Epoch 98/100\n",
      "2990/2990 [==============================] - 0s 22us/sample - loss: 0.3950 - acc: 0.8147\n",
      "Epoch 99/100\n",
      "2990/2990 [==============================] - 0s 22us/sample - loss: 0.3947 - acc: 0.8204\n",
      "Epoch 100/100\n",
      "2990/2990 [==============================] - 0s 23us/sample - loss: 0.3950 - acc: 0.8184\n",
      "1407/1407 [==============================] - 0s 35us/sample - loss: 0.6048 - acc: 0.7107\n",
      "[0.60479191013406, 0.71073204]\n",
      "Classification Report: \n",
      "               precision    recall  f1-score   support\n",
      "\n",
      "           0       0.90      0.68      0.78      1033\n",
      "           1       0.47      0.79      0.59       374\n",
      "\n",
      "    accuracy                           0.71      1407\n",
      "   macro avg       0.69      0.74      0.68      1407\n",
      "weighted avg       0.79      0.71      0.73      1407\n",
      "\n"
     ]
    }
   ],
   "source": [
    "y_preds = ANN(X_train, y_train, X_test, y_test, 'binary_crossentropy', -1)"
   ]
  },
  {
   "cell_type": "code",
   "execution_count": 100,
   "metadata": {},
   "outputs": [
    {
     "data": {
      "text/plain": [
       "(2990, 26)"
      ]
     },
     "execution_count": 100,
     "metadata": {},
     "output_type": "execute_result"
    }
   ],
   "source": [
    "X_train,y_train= get_train_batch(df3_class_0,df3_class_1,1495,1495*2) #X_train from 1495 to 2990\n",
    "X_train.shape"
   ]
  },
  {
   "cell_type": "code",
   "execution_count": 101,
   "metadata": {},
   "outputs": [
    {
     "name": "stdout",
     "output_type": "stream",
     "text": [
      "Epoch 1/100\n",
      "2990/2990 [==============================] - 0s 53us/sample - loss: 0.6220 - acc: 0.6819\n",
      "Epoch 2/100\n",
      "2990/2990 [==============================] - 0s 24us/sample - loss: 0.5129 - acc: 0.7545\n",
      "Epoch 3/100\n",
      "2990/2990 [==============================] - 0s 23us/sample - loss: 0.4932 - acc: 0.7575\n",
      "Epoch 4/100\n",
      "2990/2990 [==============================] - 0s 24us/sample - loss: 0.4853 - acc: 0.7615\n",
      "Epoch 5/100\n",
      "2990/2990 [==============================] - 0s 23us/sample - loss: 0.4817 - acc: 0.7642\n",
      "Epoch 6/100\n",
      "2990/2990 [==============================] - 0s 23us/sample - loss: 0.4784 - acc: 0.7656\n",
      "Epoch 7/100\n",
      "2990/2990 [==============================] - 0s 23us/sample - loss: 0.4766 - acc: 0.7635\n",
      "Epoch 8/100\n",
      "2990/2990 [==============================] - 0s 23us/sample - loss: 0.4732 - acc: 0.7672\n",
      "Epoch 9/100\n",
      "2990/2990 [==============================] - 0s 24us/sample - loss: 0.4712 - acc: 0.7746\n",
      "Epoch 10/100\n",
      "2990/2990 [==============================] - 0s 24us/sample - loss: 0.4692 - acc: 0.7742\n",
      "Epoch 11/100\n",
      "2990/2990 [==============================] - 0s 25us/sample - loss: 0.4688 - acc: 0.7732\n",
      "Epoch 12/100\n",
      "2990/2990 [==============================] - 0s 25us/sample - loss: 0.4669 - acc: 0.7716\n",
      "Epoch 13/100\n",
      "2990/2990 [==============================] - 0s 23us/sample - loss: 0.4642 - acc: 0.7773\n",
      "Epoch 14/100\n",
      "2990/2990 [==============================] - 0s 23us/sample - loss: 0.4632 - acc: 0.7776\n",
      "Epoch 15/100\n",
      "2990/2990 [==============================] - 0s 23us/sample - loss: 0.4625 - acc: 0.7746\n",
      "Epoch 16/100\n",
      "2990/2990 [==============================] - 0s 23us/sample - loss: 0.4593 - acc: 0.7823\n",
      "Epoch 17/100\n",
      "2990/2990 [==============================] - 0s 23us/sample - loss: 0.4588 - acc: 0.7756\n",
      "Epoch 18/100\n",
      "2990/2990 [==============================] - 0s 24us/sample - loss: 0.4570 - acc: 0.7826\n",
      "Epoch 19/100\n",
      "2990/2990 [==============================] - 0s 23us/sample - loss: 0.4563 - acc: 0.7799\n",
      "Epoch 20/100\n",
      "2990/2990 [==============================] - 0s 23us/sample - loss: 0.4553 - acc: 0.7773\n",
      "Epoch 21/100\n",
      "2990/2990 [==============================] - 0s 23us/sample - loss: 0.4552 - acc: 0.7809\n",
      "Epoch 22/100\n",
      "2990/2990 [==============================] - 0s 24us/sample - loss: 0.4537 - acc: 0.7789\n",
      "Epoch 23/100\n",
      "2990/2990 [==============================] - 0s 24us/sample - loss: 0.4538 - acc: 0.7779\n",
      "Epoch 24/100\n",
      "2990/2990 [==============================] - 0s 24us/sample - loss: 0.4508 - acc: 0.7813\n",
      "Epoch 25/100\n",
      "2990/2990 [==============================] - 0s 25us/sample - loss: 0.4500 - acc: 0.7863\n",
      "Epoch 26/100\n",
      "2990/2990 [==============================] - 0s 24us/sample - loss: 0.4481 - acc: 0.7839\n",
      "Epoch 27/100\n",
      "2990/2990 [==============================] - 0s 23us/sample - loss: 0.4465 - acc: 0.7876\n",
      "Epoch 28/100\n",
      "2990/2990 [==============================] - 0s 23us/sample - loss: 0.4450 - acc: 0.7890\n",
      "Epoch 29/100\n",
      "2990/2990 [==============================] - 0s 24us/sample - loss: 0.4459 - acc: 0.7866\n",
      "Epoch 30/100\n",
      "2990/2990 [==============================] - 0s 23us/sample - loss: 0.4441 - acc: 0.7920\n",
      "Epoch 31/100\n",
      "2990/2990 [==============================] - 0s 23us/sample - loss: 0.4428 - acc: 0.7880\n",
      "Epoch 32/100\n",
      "2990/2990 [==============================] - 0s 23us/sample - loss: 0.4419 - acc: 0.7903\n",
      "Epoch 33/100\n",
      "2990/2990 [==============================] - 0s 23us/sample - loss: 0.4408 - acc: 0.7910\n",
      "Epoch 34/100\n",
      "2990/2990 [==============================] - 0s 23us/sample - loss: 0.4398 - acc: 0.7876\n",
      "Epoch 35/100\n",
      "2990/2990 [==============================] - 0s 23us/sample - loss: 0.4408 - acc: 0.7910\n",
      "Epoch 36/100\n",
      "2990/2990 [==============================] - 0s 24us/sample - loss: 0.4371 - acc: 0.7936\n",
      "Epoch 37/100\n",
      "2990/2990 [==============================] - 0s 23us/sample - loss: 0.4350 - acc: 0.7957\n",
      "Epoch 38/100\n",
      "2990/2990 [==============================] - 0s 24us/sample - loss: 0.4358 - acc: 0.7930\n",
      "Epoch 39/100\n",
      "2990/2990 [==============================] - 0s 23us/sample - loss: 0.4339 - acc: 0.7980\n",
      "Epoch 40/100\n",
      "2990/2990 [==============================] - 0s 24us/sample - loss: 0.4329 - acc: 0.7980\n",
      "Epoch 41/100\n",
      "2990/2990 [==============================] - 0s 24us/sample - loss: 0.4302 - acc: 0.7913\n",
      "Epoch 42/100\n",
      "2990/2990 [==============================] - 0s 24us/sample - loss: 0.4295 - acc: 0.7983\n",
      "Epoch 43/100\n",
      "2990/2990 [==============================] - 0s 24us/sample - loss: 0.4285 - acc: 0.7953\n",
      "Epoch 44/100\n",
      "2990/2990 [==============================] - 0s 23us/sample - loss: 0.4277 - acc: 0.7970\n",
      "Epoch 45/100\n",
      "2990/2990 [==============================] - 0s 24us/sample - loss: 0.4277 - acc: 0.7967\n",
      "Epoch 46/100\n",
      "2990/2990 [==============================] - 0s 24us/sample - loss: 0.4240 - acc: 0.8037\n",
      "Epoch 47/100\n",
      "2990/2990 [==============================] - 0s 24us/sample - loss: 0.4244 - acc: 0.8000\n",
      "Epoch 48/100\n",
      "2990/2990 [==============================] - 0s 23us/sample - loss: 0.4230 - acc: 0.8007\n",
      "Epoch 49/100\n",
      "2990/2990 [==============================] - 0s 23us/sample - loss: 0.4217 - acc: 0.8010\n",
      "Epoch 50/100\n",
      "2990/2990 [==============================] - 0s 23us/sample - loss: 0.4197 - acc: 0.8027\n",
      "Epoch 51/100\n",
      "2990/2990 [==============================] - 0s 24us/sample - loss: 0.4193 - acc: 0.8074\n",
      "Epoch 52/100\n",
      "2990/2990 [==============================] - 0s 24us/sample - loss: 0.4170 - acc: 0.8050\n",
      "Epoch 53/100\n",
      "2990/2990 [==============================] - 0s 25us/sample - loss: 0.4163 - acc: 0.8050\n",
      "Epoch 54/100\n",
      "2990/2990 [==============================] - 0s 23us/sample - loss: 0.4159 - acc: 0.8074\n",
      "Epoch 55/100\n",
      "2990/2990 [==============================] - 0s 24us/sample - loss: 0.4141 - acc: 0.8077\n",
      "Epoch 56/100\n",
      "2990/2990 [==============================] - 0s 24us/sample - loss: 0.4130 - acc: 0.8033\n",
      "Epoch 57/100\n",
      "2990/2990 [==============================] - 0s 24us/sample - loss: 0.4125 - acc: 0.8060\n",
      "Epoch 58/100\n",
      "2990/2990 [==============================] - 0s 24us/sample - loss: 0.4095 - acc: 0.8094\n",
      "Epoch 59/100\n",
      "2990/2990 [==============================] - 0s 23us/sample - loss: 0.4118 - acc: 0.8080\n",
      "Epoch 60/100\n",
      "2990/2990 [==============================] - 0s 24us/sample - loss: 0.4088 - acc: 0.8054\n",
      "Epoch 61/100\n",
      "2990/2990 [==============================] - 0s 23us/sample - loss: 0.4081 - acc: 0.8120\n",
      "Epoch 62/100\n",
      "2990/2990 [==============================] - 0s 23us/sample - loss: 0.4078 - acc: 0.8127\n",
      "Epoch 63/100\n",
      "2990/2990 [==============================] - 0s 24us/sample - loss: 0.4077 - acc: 0.8077\n",
      "Epoch 64/100\n",
      "2990/2990 [==============================] - 0s 24us/sample - loss: 0.4063 - acc: 0.8070\n",
      "Epoch 65/100\n",
      "2990/2990 [==============================] - 0s 24us/sample - loss: 0.4084 - acc: 0.8047\n",
      "Epoch 66/100\n",
      "2990/2990 [==============================] - 0s 24us/sample - loss: 0.4046 - acc: 0.8120\n",
      "Epoch 67/100\n",
      "2990/2990 [==============================] - 0s 24us/sample - loss: 0.4028 - acc: 0.8097\n",
      "Epoch 68/100\n",
      "2990/2990 [==============================] - 0s 23us/sample - loss: 0.4015 - acc: 0.8154\n",
      "Epoch 69/100\n",
      "2990/2990 [==============================] - 0s 24us/sample - loss: 0.4013 - acc: 0.8147\n",
      "Epoch 70/100\n",
      "2990/2990 [==============================] - 0s 24us/sample - loss: 0.4030 - acc: 0.8117\n",
      "Epoch 71/100\n",
      "2990/2990 [==============================] - 0s 24us/sample - loss: 0.3992 - acc: 0.8110\n",
      "Epoch 72/100\n",
      "2990/2990 [==============================] - 0s 23us/sample - loss: 0.3980 - acc: 0.8120\n",
      "Epoch 73/100\n",
      "2990/2990 [==============================] - 0s 23us/sample - loss: 0.3979 - acc: 0.8124\n",
      "Epoch 74/100\n",
      "2990/2990 [==============================] - 0s 24us/sample - loss: 0.3953 - acc: 0.8134\n",
      "Epoch 75/100\n",
      "2990/2990 [==============================] - 0s 24us/sample - loss: 0.3952 - acc: 0.8164\n",
      "Epoch 76/100\n",
      "2990/2990 [==============================] - 0s 23us/sample - loss: 0.3946 - acc: 0.8144\n",
      "Epoch 77/100\n",
      "2990/2990 [==============================] - 0s 23us/sample - loss: 0.3945 - acc: 0.8177\n",
      "Epoch 78/100\n",
      "2990/2990 [==============================] - 0s 23us/sample - loss: 0.3920 - acc: 0.8171\n",
      "Epoch 79/100\n",
      "2990/2990 [==============================] - 0s 25us/sample - loss: 0.3933 - acc: 0.8201\n",
      "Epoch 80/100\n",
      "2990/2990 [==============================] - 0s 23us/sample - loss: 0.3928 - acc: 0.8154\n",
      "Epoch 81/100\n",
      "2990/2990 [==============================] - 0s 24us/sample - loss: 0.3922 - acc: 0.8140\n",
      "Epoch 82/100\n",
      "2990/2990 [==============================] - 0s 24us/sample - loss: 0.3874 - acc: 0.8258\n",
      "Epoch 83/100\n",
      "2990/2990 [==============================] - 0s 23us/sample - loss: 0.3933 - acc: 0.8151\n",
      "Epoch 84/100\n",
      "2990/2990 [==============================] - 0s 23us/sample - loss: 0.3887 - acc: 0.8191\n",
      "Epoch 85/100\n",
      "2990/2990 [==============================] - 0s 23us/sample - loss: 0.3873 - acc: 0.8191\n",
      "Epoch 86/100\n",
      "2990/2990 [==============================] - 0s 23us/sample - loss: 0.3879 - acc: 0.8197\n",
      "Epoch 87/100\n",
      "2990/2990 [==============================] - 0s 23us/sample - loss: 0.3895 - acc: 0.8174\n",
      "Epoch 88/100\n",
      "2990/2990 [==============================] - 0s 23us/sample - loss: 0.3866 - acc: 0.8214\n",
      "Epoch 89/100\n",
      "2990/2990 [==============================] - 0s 23us/sample - loss: 0.3861 - acc: 0.8211\n",
      "Epoch 90/100\n",
      "2990/2990 [==============================] - 0s 24us/sample - loss: 0.3844 - acc: 0.8244\n",
      "Epoch 91/100\n",
      "2990/2990 [==============================] - 0s 23us/sample - loss: 0.3856 - acc: 0.8251\n",
      "Epoch 92/100\n",
      "2990/2990 [==============================] - 0s 23us/sample - loss: 0.3814 - acc: 0.8251\n",
      "Epoch 93/100\n",
      "2990/2990 [==============================] - 0s 24us/sample - loss: 0.3820 - acc: 0.8194\n",
      "Epoch 94/100\n",
      "2990/2990 [==============================] - 0s 23us/sample - loss: 0.3858 - acc: 0.8214\n",
      "Epoch 95/100\n",
      "2990/2990 [==============================] - 0s 23us/sample - loss: 0.3818 - acc: 0.8214\n",
      "Epoch 96/100\n",
      "2990/2990 [==============================] - 0s 23us/sample - loss: 0.3817 - acc: 0.8247\n",
      "Epoch 97/100\n",
      "2990/2990 [==============================] - 0s 23us/sample - loss: 0.3793 - acc: 0.8244\n",
      "Epoch 98/100\n",
      "2990/2990 [==============================] - 0s 23us/sample - loss: 0.3793 - acc: 0.8211\n",
      "Epoch 99/100\n",
      "2990/2990 [==============================] - 0s 24us/sample - loss: 0.3760 - acc: 0.8298\n",
      "Epoch 100/100\n",
      "2990/2990 [==============================] - 0s 24us/sample - loss: 0.3777 - acc: 0.8221\n",
      "1407/1407 [==============================] - 0s 37us/sample - loss: 0.5398 - acc: 0.7520\n",
      "[0.5397815555228184, 0.7519545]\n",
      "Classification Report: \n",
      "               precision    recall  f1-score   support\n",
      "\n",
      "           0       0.88      0.77      0.82      1033\n",
      "           1       0.52      0.70      0.60       374\n",
      "\n",
      "    accuracy                           0.75      1407\n",
      "   macro avg       0.70      0.74      0.71      1407\n",
      "weighted avg       0.78      0.75      0.76      1407\n",
      "\n"
     ]
    }
   ],
   "source": [
    "y_preds2 = ANN(X_train, y_train, X_test, y_test, 'binary_crossentropy', -1)"
   ]
  },
  {
   "cell_type": "code",
   "execution_count": 102,
   "metadata": {},
   "outputs": [
    {
     "data": {
      "text/plain": [
       "(2635, 26)"
      ]
     },
     "execution_count": 102,
     "metadata": {},
     "output_type": "execute_result"
    }
   ],
   "source": [
    "X_train,y_train= get_train_batch(df3_class_0,df3_class_1,1495*2,4130) #X_train from o 2990 to 4130\n",
    "X_train.shape"
   ]
  },
  {
   "cell_type": "code",
   "execution_count": 103,
   "metadata": {},
   "outputs": [
    {
     "name": "stdout",
     "output_type": "stream",
     "text": [
      "Epoch 1/100\n",
      "2635/2635 [==============================] - 0s 58us/sample - loss: 0.6352 - acc: 0.6558\n",
      "Epoch 2/100\n",
      "2635/2635 [==============================] - 0s 24us/sample - loss: 0.5109 - acc: 0.7594\n",
      "Epoch 3/100\n",
      "2635/2635 [==============================] - 0s 24us/sample - loss: 0.4882 - acc: 0.7674\n",
      "Epoch 4/100\n",
      "2635/2635 [==============================] - 0s 24us/sample - loss: 0.4817 - acc: 0.7693\n",
      "Epoch 5/100\n",
      "2635/2635 [==============================] - 0s 23us/sample - loss: 0.4769 - acc: 0.7696\n",
      "Epoch 6/100\n",
      "2635/2635 [==============================] - 0s 23us/sample - loss: 0.4757 - acc: 0.7738\n",
      "Epoch 7/100\n",
      "2635/2635 [==============================] - 0s 23us/sample - loss: 0.4713 - acc: 0.7753\n",
      "Epoch 8/100\n",
      "2635/2635 [==============================] - 0s 23us/sample - loss: 0.4692 - acc: 0.7772\n",
      "Epoch 9/100\n",
      "2635/2635 [==============================] - 0s 24us/sample - loss: 0.4688 - acc: 0.7769\n",
      "Epoch 10/100\n",
      "2635/2635 [==============================] - 0s 24us/sample - loss: 0.4663 - acc: 0.7780\n",
      "Epoch 11/100\n",
      "2635/2635 [==============================] - 0s 24us/sample - loss: 0.4639 - acc: 0.7776\n",
      "Epoch 12/100\n",
      "2635/2635 [==============================] - 0s 24us/sample - loss: 0.4638 - acc: 0.7814\n",
      "Epoch 13/100\n",
      "2635/2635 [==============================] - 0s 23us/sample - loss: 0.4602 - acc: 0.7810\n",
      "Epoch 14/100\n",
      "2635/2635 [==============================] - 0s 23us/sample - loss: 0.4602 - acc: 0.7818\n",
      "Epoch 15/100\n",
      "2635/2635 [==============================] - 0s 24us/sample - loss: 0.4578 - acc: 0.7822\n",
      "Epoch 16/100\n",
      "2635/2635 [==============================] - 0s 23us/sample - loss: 0.4562 - acc: 0.7841\n",
      "Epoch 17/100\n",
      "2635/2635 [==============================] - 0s 24us/sample - loss: 0.4553 - acc: 0.7875\n",
      "Epoch 18/100\n",
      "2635/2635 [==============================] - 0s 26us/sample - loss: 0.4556 - acc: 0.7841\n",
      "Epoch 19/100\n",
      "2635/2635 [==============================] - 0s 25us/sample - loss: 0.4532 - acc: 0.7863\n",
      "Epoch 20/100\n",
      "2635/2635 [==============================] - 0s 24us/sample - loss: 0.4507 - acc: 0.7890\n",
      "Epoch 21/100\n",
      "2635/2635 [==============================] - 0s 24us/sample - loss: 0.4520 - acc: 0.7890\n",
      "Epoch 22/100\n",
      "2635/2635 [==============================] - 0s 23us/sample - loss: 0.4494 - acc: 0.7863\n",
      "Epoch 23/100\n",
      "2635/2635 [==============================] - 0s 25us/sample - loss: 0.4487 - acc: 0.7920\n",
      "Epoch 24/100\n",
      "2635/2635 [==============================] - 0s 25us/sample - loss: 0.4477 - acc: 0.7909\n",
      "Epoch 25/100\n",
      "2635/2635 [==============================] - 0s 25us/sample - loss: 0.4468 - acc: 0.7871\n",
      "Epoch 26/100\n",
      "2635/2635 [==============================] - 0s 24us/sample - loss: 0.4473 - acc: 0.7917\n",
      "Epoch 27/100\n",
      "2635/2635 [==============================] - 0s 23us/sample - loss: 0.4452 - acc: 0.7920\n",
      "Epoch 28/100\n",
      "2635/2635 [==============================] - 0s 26us/sample - loss: 0.4441 - acc: 0.7905\n",
      "Epoch 29/100\n",
      "2635/2635 [==============================] - 0s 25us/sample - loss: 0.4419 - acc: 0.7939\n",
      "Epoch 30/100\n",
      "2635/2635 [==============================] - 0s 25us/sample - loss: 0.4406 - acc: 0.7939\n",
      "Epoch 31/100\n",
      "2635/2635 [==============================] - 0s 25us/sample - loss: 0.4405 - acc: 0.7901\n",
      "Epoch 32/100\n",
      "2635/2635 [==============================] - 0s 24us/sample - loss: 0.4409 - acc: 0.7913\n",
      "Epoch 33/100\n",
      "2635/2635 [==============================] - 0s 24us/sample - loss: 0.4375 - acc: 0.7928\n",
      "Epoch 34/100\n",
      "2635/2635 [==============================] - 0s 25us/sample - loss: 0.4372 - acc: 0.7966\n",
      "Epoch 35/100\n",
      "2635/2635 [==============================] - 0s 24us/sample - loss: 0.4359 - acc: 0.7954\n",
      "Epoch 36/100\n",
      "2635/2635 [==============================] - 0s 24us/sample - loss: 0.4359 - acc: 0.7901\n",
      "Epoch 37/100\n",
      "2635/2635 [==============================] - 0s 24us/sample - loss: 0.4359 - acc: 0.7962\n",
      "Epoch 38/100\n",
      "2635/2635 [==============================] - 0s 25us/sample - loss: 0.4331 - acc: 0.7977\n",
      "Epoch 39/100\n",
      "2635/2635 [==============================] - 0s 25us/sample - loss: 0.4333 - acc: 0.7924\n",
      "Epoch 40/100\n",
      "2635/2635 [==============================] - 0s 24us/sample - loss: 0.4329 - acc: 0.8004\n",
      "Epoch 41/100\n",
      "2635/2635 [==============================] - 0s 24us/sample - loss: 0.4300 - acc: 0.7947\n",
      "Epoch 42/100\n",
      "2635/2635 [==============================] - 0s 24us/sample - loss: 0.4295 - acc: 0.8004\n",
      "Epoch 43/100\n",
      "2635/2635 [==============================] - 0s 24us/sample - loss: 0.4296 - acc: 0.8004\n",
      "Epoch 44/100\n",
      "2635/2635 [==============================] - 0s 24us/sample - loss: 0.4298 - acc: 0.7985\n",
      "Epoch 45/100\n",
      "2635/2635 [==============================] - 0s 25us/sample - loss: 0.4262 - acc: 0.7981\n",
      "Epoch 46/100\n",
      "2635/2635 [==============================] - 0s 24us/sample - loss: 0.4255 - acc: 0.8011\n",
      "Epoch 47/100\n",
      "2635/2635 [==============================] - 0s 24us/sample - loss: 0.4235 - acc: 0.8046\n",
      "Epoch 48/100\n",
      "2635/2635 [==============================] - 0s 25us/sample - loss: 0.4243 - acc: 0.8004\n",
      "Epoch 49/100\n",
      "2635/2635 [==============================] - 0s 25us/sample - loss: 0.4237 - acc: 0.8008\n",
      "Epoch 50/100\n",
      "2635/2635 [==============================] - 0s 25us/sample - loss: 0.4253 - acc: 0.8023\n",
      "Epoch 51/100\n",
      "2635/2635 [==============================] - 0s 24us/sample - loss: 0.4212 - acc: 0.8053\n",
      "Epoch 52/100\n",
      "2635/2635 [==============================] - 0s 23us/sample - loss: 0.4214 - acc: 0.8027\n",
      "Epoch 53/100\n",
      "2635/2635 [==============================] - 0s 23us/sample - loss: 0.4209 - acc: 0.8049\n",
      "Epoch 54/100\n",
      "2635/2635 [==============================] - 0s 25us/sample - loss: 0.4215 - acc: 0.8091\n",
      "Epoch 55/100\n",
      "2635/2635 [==============================] - 0s 23us/sample - loss: 0.4190 - acc: 0.8061\n",
      "Epoch 56/100\n",
      "2635/2635 [==============================] - 0s 24us/sample - loss: 0.4172 - acc: 0.8053\n",
      "Epoch 57/100\n",
      "2635/2635 [==============================] - 0s 23us/sample - loss: 0.4173 - acc: 0.8065\n",
      "Epoch 58/100\n",
      "2635/2635 [==============================] - 0s 24us/sample - loss: 0.4171 - acc: 0.8042\n",
      "Epoch 59/100\n",
      "2635/2635 [==============================] - 0s 24us/sample - loss: 0.4159 - acc: 0.8030\n",
      "Epoch 60/100\n",
      "2635/2635 [==============================] - 0s 25us/sample - loss: 0.4138 - acc: 0.8076\n",
      "Epoch 61/100\n",
      "2635/2635 [==============================] - 0s 25us/sample - loss: 0.4152 - acc: 0.8080\n",
      "Epoch 62/100\n",
      "2635/2635 [==============================] - 0s 24us/sample - loss: 0.4125 - acc: 0.8114\n",
      "Epoch 63/100\n",
      "2635/2635 [==============================] - 0s 24us/sample - loss: 0.4124 - acc: 0.8106\n",
      "Epoch 64/100\n",
      "2635/2635 [==============================] - 0s 24us/sample - loss: 0.4128 - acc: 0.8102\n",
      "Epoch 65/100\n",
      "2635/2635 [==============================] - 0s 24us/sample - loss: 0.4107 - acc: 0.8099\n",
      "Epoch 66/100\n",
      "2635/2635 [==============================] - 0s 24us/sample - loss: 0.4092 - acc: 0.8076\n",
      "Epoch 67/100\n",
      "2635/2635 [==============================] - 0s 24us/sample - loss: 0.4099 - acc: 0.8106\n",
      "Epoch 68/100\n",
      "2635/2635 [==============================] - 0s 24us/sample - loss: 0.4085 - acc: 0.8114\n",
      "Epoch 69/100\n",
      "2635/2635 [==============================] - 0s 23us/sample - loss: 0.4087 - acc: 0.8121\n",
      "Epoch 70/100\n",
      "2635/2635 [==============================] - 0s 24us/sample - loss: 0.4066 - acc: 0.8102\n",
      "Epoch 71/100\n",
      "2635/2635 [==============================] - 0s 23us/sample - loss: 0.4069 - acc: 0.8110\n",
      "Epoch 72/100\n",
      "2635/2635 [==============================] - 0s 24us/sample - loss: 0.4051 - acc: 0.8137\n",
      "Epoch 73/100\n",
      "2635/2635 [==============================] - 0s 25us/sample - loss: 0.4044 - acc: 0.8148\n",
      "Epoch 74/100\n",
      "2635/2635 [==============================] - 0s 25us/sample - loss: 0.4043 - acc: 0.8110\n",
      "Epoch 75/100\n",
      "2635/2635 [==============================] - 0s 25us/sample - loss: 0.4035 - acc: 0.8140\n",
      "Epoch 76/100\n",
      "2635/2635 [==============================] - 0s 24us/sample - loss: 0.4033 - acc: 0.8133\n",
      "Epoch 77/100\n",
      "2635/2635 [==============================] - 0s 23us/sample - loss: 0.4014 - acc: 0.8167\n",
      "Epoch 78/100\n",
      "2635/2635 [==============================] - 0s 23us/sample - loss: 0.4012 - acc: 0.8144\n",
      "Epoch 79/100\n",
      "2635/2635 [==============================] - 0s 24us/sample - loss: 0.4021 - acc: 0.8137\n",
      "Epoch 80/100\n",
      "2635/2635 [==============================] - 0s 24us/sample - loss: 0.4027 - acc: 0.8175\n",
      "Epoch 81/100\n",
      "2635/2635 [==============================] - 0s 24us/sample - loss: 0.3992 - acc: 0.8091\n",
      "Epoch 82/100\n",
      "2635/2635 [==============================] - 0s 24us/sample - loss: 0.3992 - acc: 0.8167\n",
      "Epoch 83/100\n",
      "2635/2635 [==============================] - 0s 23us/sample - loss: 0.3993 - acc: 0.8121\n",
      "Epoch 84/100\n",
      "2635/2635 [==============================] - 0s 23us/sample - loss: 0.3969 - acc: 0.8159\n",
      "Epoch 85/100\n",
      "2635/2635 [==============================] - 0s 25us/sample - loss: 0.3963 - acc: 0.8182\n",
      "Epoch 86/100\n",
      "2635/2635 [==============================] - 0s 24us/sample - loss: 0.3954 - acc: 0.8197\n",
      "Epoch 87/100\n",
      "2635/2635 [==============================] - 0s 24us/sample - loss: 0.3959 - acc: 0.8140\n",
      "Epoch 88/100\n",
      "2635/2635 [==============================] - 0s 24us/sample - loss: 0.3968 - acc: 0.8167\n",
      "Epoch 89/100\n",
      "2635/2635 [==============================] - 0s 25us/sample - loss: 0.3917 - acc: 0.8163\n",
      "Epoch 90/100\n",
      "2635/2635 [==============================] - 0s 25us/sample - loss: 0.3961 - acc: 0.8125\n",
      "Epoch 91/100\n",
      "2635/2635 [==============================] - 0s 24us/sample - loss: 0.3918 - acc: 0.8182\n",
      "Epoch 92/100\n",
      "2635/2635 [==============================] - 0s 25us/sample - loss: 0.3910 - acc: 0.8197\n",
      "Epoch 93/100\n",
      "2635/2635 [==============================] - 0s 25us/sample - loss: 0.3919 - acc: 0.8220\n",
      "Epoch 94/100\n",
      "2635/2635 [==============================] - 0s 24us/sample - loss: 0.3896 - acc: 0.8152\n",
      "Epoch 95/100\n",
      "2635/2635 [==============================] - 0s 24us/sample - loss: 0.3898 - acc: 0.8186\n",
      "Epoch 96/100\n",
      "2635/2635 [==============================] - 0s 24us/sample - loss: 0.3900 - acc: 0.8197\n",
      "Epoch 97/100\n",
      "2635/2635 [==============================] - 0s 24us/sample - loss: 0.3904 - acc: 0.8201\n",
      "Epoch 98/100\n",
      "2635/2635 [==============================] - 0s 24us/sample - loss: 0.3867 - acc: 0.8262\n",
      "Epoch 99/100\n",
      "2635/2635 [==============================] - 0s 24us/sample - loss: 0.3863 - acc: 0.8205\n",
      "Epoch 100/100\n",
      "2635/2635 [==============================] - 0s 23us/sample - loss: 0.3875 - acc: 0.8228\n",
      "1407/1407 [==============================] - 0s 37us/sample - loss: 0.6233 - acc: 0.6923\n",
      "[0.623266344851607, 0.692253]\n",
      "Classification Report: \n",
      "               precision    recall  f1-score   support\n",
      "\n",
      "           0       0.91      0.64      0.75      1033\n",
      "           1       0.46      0.83      0.59       374\n",
      "\n",
      "    accuracy                           0.69      1407\n",
      "   macro avg       0.69      0.74      0.67      1407\n",
      "weighted avg       0.79      0.69      0.71      1407\n",
      "\n"
     ]
    }
   ],
   "source": [
    "y_preds3 = ANN(X_train, y_train, X_test, y_test, 'binary_crossentropy', -1)"
   ]
  },
  {
   "cell_type": "code",
   "execution_count": 104,
   "metadata": {},
   "outputs": [],
   "source": [
    "y_pred_final = y_preds.copy()\n",
    "for i in range(len(y_preds)):\n",
    "    n_ones = y_preds[i] + y_preds2[i] + y_preds3[i]\n",
    "    if n_ones > 1:\n",
    "        y_pred_final[i] = 1\n",
    "    else:\n",
    "        y_pred_final[i] = 0"
   ]
  },
  {
   "cell_type": "code",
   "execution_count": 105,
   "metadata": {},
   "outputs": [
    {
     "name": "stdout",
     "output_type": "stream",
     "text": [
      "              precision    recall  f1-score   support\n",
      "\n",
      "           0       0.90      0.70      0.79      1033\n",
      "           1       0.48      0.79      0.60       374\n",
      "\n",
      "    accuracy                           0.72      1407\n",
      "   macro avg       0.69      0.74      0.69      1407\n",
      "weighted avg       0.79      0.72      0.74      1407\n",
      "\n"
     ]
    }
   ],
   "source": [
    "cl_rep = classification_report(y_test, y_pred_final)\n",
    "print(cl_rep)"
   ]
  },
  {
   "cell_type": "code",
   "execution_count": null,
   "metadata": {},
   "outputs": [],
   "source": []
  }
 ],
 "metadata": {
  "kernelspec": {
   "display_name": "Python 3 (ipykernel)",
   "language": "python",
   "name": "python3"
  },
  "language_info": {
   "codemirror_mode": {
    "name": "ipython",
    "version": 3
   },
   "file_extension": ".py",
   "mimetype": "text/x-python",
   "name": "python",
   "nbconvert_exporter": "python",
   "pygments_lexer": "ipython3",
   "version": "3.7.16"
  },
  "varInspector": {
   "cols": {
    "lenName": 16,
    "lenType": 16,
    "lenVar": 40
   },
   "kernels_config": {
    "python": {
     "delete_cmd_postfix": "",
     "delete_cmd_prefix": "del ",
     "library": "var_list.py",
     "varRefreshCmd": "print(var_dic_list())"
    },
    "r": {
     "delete_cmd_postfix": ") ",
     "delete_cmd_prefix": "rm(",
     "library": "var_list.r",
     "varRefreshCmd": "cat(var_dic_list()) "
    }
   },
   "types_to_exclude": [
    "module",
    "function",
    "builtin_function_or_method",
    "instance",
    "_Feature"
   ],
   "window_display": false
  }
 },
 "nbformat": 4,
 "nbformat_minor": 4
}
